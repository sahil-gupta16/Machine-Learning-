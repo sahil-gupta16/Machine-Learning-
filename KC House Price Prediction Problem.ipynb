{
 "cells": [
  {
   "cell_type": "markdown",
   "id": "fc375a82",
   "metadata": {},
   "source": [
    "# KC House Price Prediction Problem :"
   ]
  },
  {
   "cell_type": "markdown",
   "id": "7da540ee",
   "metadata": {},
   "source": [
    "## Name :  Sahil Gupta"
   ]
  },
  {
   "cell_type": "markdown",
   "id": "1a500192",
   "metadata": {},
   "source": [
    "## Roll no. :  D21030"
   ]
  },
  {
   "cell_type": "code",
   "execution_count": 1,
   "id": "a4b06b3f",
   "metadata": {},
   "outputs": [],
   "source": [
    "#Getting the required libraries\n",
    "import pandas as pd\n",
    "import numpy as np\n",
    "import matplotlib.pyplot as plt\n",
    "import seaborn as sns\n",
    "import os\n",
    "import Graphs"
   ]
  },
  {
   "cell_type": "code",
   "execution_count": 2,
   "id": "5d4aca6c",
   "metadata": {},
   "outputs": [
    {
     "data": {
      "text/plain": [
       "'C:\\\\Users\\\\Lenovo\\\\Documents\\\\Codes\\\\IML End Term'"
      ]
     },
     "execution_count": 2,
     "metadata": {},
     "output_type": "execute_result"
    }
   ],
   "source": [
    "os.getcwd()     #to get the current working directory"
   ]
  },
  {
   "cell_type": "code",
   "execution_count": 3,
   "id": "8a1532ff",
   "metadata": {},
   "outputs": [
    {
     "data": {
      "text/plain": [
       "(9761, 21)"
      ]
     },
     "execution_count": 3,
     "metadata": {},
     "output_type": "execute_result"
    }
   ],
   "source": [
    "dataset_2 = pd.read_csv(\"kc_house_train_data.csv\")   #reading the training data from the csv file.\n",
    "dataset_2.shape"
   ]
  },
  {
   "cell_type": "code",
   "execution_count": 4,
   "id": "71e3f5f5",
   "metadata": {},
   "outputs": [],
   "source": [
    "pd.pandas.set_option('display.max_columns',None)  #displaying all the columns from the data"
   ]
  },
  {
   "cell_type": "code",
   "execution_count": 5,
   "id": "30b65dc7",
   "metadata": {},
   "outputs": [
    {
     "data": {
      "text/html": [
       "<div>\n",
       "<style scoped>\n",
       "    .dataframe tbody tr th:only-of-type {\n",
       "        vertical-align: middle;\n",
       "    }\n",
       "\n",
       "    .dataframe tbody tr th {\n",
       "        vertical-align: top;\n",
       "    }\n",
       "\n",
       "    .dataframe thead th {\n",
       "        text-align: right;\n",
       "    }\n",
       "</style>\n",
       "<table border=\"1\" class=\"dataframe\">\n",
       "  <thead>\n",
       "    <tr style=\"text-align: right;\">\n",
       "      <th></th>\n",
       "      <th>id</th>\n",
       "      <th>date</th>\n",
       "      <th>price</th>\n",
       "      <th>bedrooms</th>\n",
       "      <th>bathrooms</th>\n",
       "      <th>sqft_living</th>\n",
       "      <th>sqft_lot</th>\n",
       "      <th>floors</th>\n",
       "      <th>waterfront</th>\n",
       "      <th>view</th>\n",
       "      <th>condition</th>\n",
       "      <th>grade</th>\n",
       "      <th>sqft_above</th>\n",
       "      <th>sqft_basement</th>\n",
       "      <th>yr_built</th>\n",
       "      <th>yr_renovated</th>\n",
       "      <th>zipcode</th>\n",
       "      <th>lat</th>\n",
       "      <th>long</th>\n",
       "      <th>sqft_living15</th>\n",
       "      <th>sqft_lot15</th>\n",
       "    </tr>\n",
       "  </thead>\n",
       "  <tbody>\n",
       "    <tr>\n",
       "      <th>0</th>\n",
       "      <td>2487200875</td>\n",
       "      <td>20141209T000000</td>\n",
       "      <td>604000.0</td>\n",
       "      <td>4</td>\n",
       "      <td>3.00</td>\n",
       "      <td>1960</td>\n",
       "      <td>5000</td>\n",
       "      <td>1.0</td>\n",
       "      <td>0</td>\n",
       "      <td>0</td>\n",
       "      <td>5</td>\n",
       "      <td>7</td>\n",
       "      <td>1050</td>\n",
       "      <td>910</td>\n",
       "      <td>1965</td>\n",
       "      <td>0</td>\n",
       "      <td>98136</td>\n",
       "      <td>47.5208</td>\n",
       "      <td>-122.393</td>\n",
       "      <td>1360</td>\n",
       "      <td>5000</td>\n",
       "    </tr>\n",
       "    <tr>\n",
       "      <th>1</th>\n",
       "      <td>7237550310</td>\n",
       "      <td>20140512T000000</td>\n",
       "      <td>1225000.0</td>\n",
       "      <td>4</td>\n",
       "      <td>4.50</td>\n",
       "      <td>5420</td>\n",
       "      <td>101930</td>\n",
       "      <td>1.0</td>\n",
       "      <td>0</td>\n",
       "      <td>0</td>\n",
       "      <td>3</td>\n",
       "      <td>11</td>\n",
       "      <td>3890</td>\n",
       "      <td>1530</td>\n",
       "      <td>2001</td>\n",
       "      <td>0</td>\n",
       "      <td>98053</td>\n",
       "      <td>47.6561</td>\n",
       "      <td>-122.005</td>\n",
       "      <td>4760</td>\n",
       "      <td>101930</td>\n",
       "    </tr>\n",
       "    <tr>\n",
       "      <th>2</th>\n",
       "      <td>9212900260</td>\n",
       "      <td>20140527T000000</td>\n",
       "      <td>468000.0</td>\n",
       "      <td>2</td>\n",
       "      <td>1.00</td>\n",
       "      <td>1160</td>\n",
       "      <td>6000</td>\n",
       "      <td>1.0</td>\n",
       "      <td>0</td>\n",
       "      <td>0</td>\n",
       "      <td>4</td>\n",
       "      <td>7</td>\n",
       "      <td>860</td>\n",
       "      <td>300</td>\n",
       "      <td>1942</td>\n",
       "      <td>0</td>\n",
       "      <td>98115</td>\n",
       "      <td>47.6900</td>\n",
       "      <td>-122.292</td>\n",
       "      <td>1330</td>\n",
       "      <td>6000</td>\n",
       "    </tr>\n",
       "    <tr>\n",
       "      <th>3</th>\n",
       "      <td>114101516</td>\n",
       "      <td>20140528T000000</td>\n",
       "      <td>310000.0</td>\n",
       "      <td>3</td>\n",
       "      <td>1.00</td>\n",
       "      <td>1430</td>\n",
       "      <td>19901</td>\n",
       "      <td>1.5</td>\n",
       "      <td>0</td>\n",
       "      <td>0</td>\n",
       "      <td>4</td>\n",
       "      <td>7</td>\n",
       "      <td>1430</td>\n",
       "      <td>0</td>\n",
       "      <td>1927</td>\n",
       "      <td>0</td>\n",
       "      <td>98028</td>\n",
       "      <td>47.7558</td>\n",
       "      <td>-122.229</td>\n",
       "      <td>1780</td>\n",
       "      <td>12697</td>\n",
       "    </tr>\n",
       "    <tr>\n",
       "      <th>4</th>\n",
       "      <td>6054650070</td>\n",
       "      <td>20141007T000000</td>\n",
       "      <td>400000.0</td>\n",
       "      <td>3</td>\n",
       "      <td>1.75</td>\n",
       "      <td>1370</td>\n",
       "      <td>9680</td>\n",
       "      <td>1.0</td>\n",
       "      <td>0</td>\n",
       "      <td>0</td>\n",
       "      <td>4</td>\n",
       "      <td>7</td>\n",
       "      <td>1370</td>\n",
       "      <td>0</td>\n",
       "      <td>1977</td>\n",
       "      <td>0</td>\n",
       "      <td>98074</td>\n",
       "      <td>47.6127</td>\n",
       "      <td>-122.045</td>\n",
       "      <td>1370</td>\n",
       "      <td>10208</td>\n",
       "    </tr>\n",
       "  </tbody>\n",
       "</table>\n",
       "</div>"
      ],
      "text/plain": [
       "           id             date      price  bedrooms  bathrooms  sqft_living  \\\n",
       "0  2487200875  20141209T000000   604000.0         4       3.00         1960   \n",
       "1  7237550310  20140512T000000  1225000.0         4       4.50         5420   \n",
       "2  9212900260  20140527T000000   468000.0         2       1.00         1160   \n",
       "3   114101516  20140528T000000   310000.0         3       1.00         1430   \n",
       "4  6054650070  20141007T000000   400000.0         3       1.75         1370   \n",
       "\n",
       "   sqft_lot  floors  waterfront  view  condition  grade  sqft_above  \\\n",
       "0      5000     1.0           0     0          5      7        1050   \n",
       "1    101930     1.0           0     0          3     11        3890   \n",
       "2      6000     1.0           0     0          4      7         860   \n",
       "3     19901     1.5           0     0          4      7        1430   \n",
       "4      9680     1.0           0     0          4      7        1370   \n",
       "\n",
       "   sqft_basement  yr_built  yr_renovated  zipcode      lat     long  \\\n",
       "0            910      1965             0    98136  47.5208 -122.393   \n",
       "1           1530      2001             0    98053  47.6561 -122.005   \n",
       "2            300      1942             0    98115  47.6900 -122.292   \n",
       "3              0      1927             0    98028  47.7558 -122.229   \n",
       "4              0      1977             0    98074  47.6127 -122.045   \n",
       "\n",
       "   sqft_living15  sqft_lot15  \n",
       "0           1360        5000  \n",
       "1           4760      101930  \n",
       "2           1330        6000  \n",
       "3           1780       12697  \n",
       "4           1370       10208  "
      ]
     },
     "execution_count": 5,
     "metadata": {},
     "output_type": "execute_result"
    }
   ],
   "source": [
    "dataset_2.head(5)"
   ]
  },
  {
   "cell_type": "code",
   "execution_count": 6,
   "id": "ecd9e172",
   "metadata": {},
   "outputs": [],
   "source": [
    "Graphs.Graphs(dataset_2)"
   ]
  },
  {
   "cell_type": "code",
   "execution_count": 7,
   "id": "0a08dbe2",
   "metadata": {},
   "outputs": [],
   "source": [
    "#We use the graphs function to plot the boxplot and histogram for all the numerical variables."
   ]
  },
  {
   "cell_type": "markdown",
   "id": "ed7a1eb4",
   "metadata": {},
   "source": [
    "# EDA :"
   ]
  },
  {
   "cell_type": "markdown",
   "id": "058bc497",
   "metadata": {},
   "source": [
    "#### In data analysis we will analyse and find out the following\n",
    "1. Missing values\n",
    "2. All numerical variables\n",
    "3.Distribution of numerical variables\n",
    "4. All categorical variables\n",
    "5.Distribution of categorical variables\n",
    "6.Outliers\n",
    "7. Relationship between independent and dependent features(Price)"
   ]
  },
  {
   "cell_type": "markdown",
   "id": "4b3d05ed",
   "metadata": {},
   "source": [
    "## Missing values :"
   ]
  },
  {
   "cell_type": "code",
   "execution_count": 8,
   "id": "ca747923",
   "metadata": {},
   "outputs": [
    {
     "data": {
      "text/plain": [
       "id               0\n",
       "date             0\n",
       "price            0\n",
       "bedrooms         0\n",
       "bathrooms        0\n",
       "sqft_living      0\n",
       "sqft_lot         0\n",
       "floors           0\n",
       "waterfront       0\n",
       "view             0\n",
       "condition        0\n",
       "grade            0\n",
       "sqft_above       0\n",
       "sqft_basement    0\n",
       "yr_built         0\n",
       "yr_renovated     0\n",
       "zipcode          0\n",
       "lat              0\n",
       "long             0\n",
       "sqft_living15    0\n",
       "sqft_lot15       0\n",
       "dtype: int64"
      ]
     },
     "execution_count": 8,
     "metadata": {},
     "output_type": "execute_result"
    }
   ],
   "source": [
    "dataset_2.isnull().sum()   #finding the missing values in the data set if any"
   ]
  },
  {
   "cell_type": "markdown",
   "id": "acbd1838",
   "metadata": {},
   "source": [
    "#### Result:-\n",
    "Here in our dataset we do not have any missing values. Hence we go forward with finding out the numerical and categorical variables."
   ]
  },
  {
   "cell_type": "markdown",
   "id": "0d21332e",
   "metadata": {},
   "source": [
    "### Numerical variables:"
   ]
  },
  {
   "cell_type": "markdown",
   "id": "a5230fe1",
   "metadata": {},
   "source": [
    "Here we sepearate the numerical variables from the dataset for further exploration."
   ]
  },
  {
   "cell_type": "code",
   "execution_count": 9,
   "id": "5a9d2107",
   "metadata": {},
   "outputs": [
    {
     "name": "stdout",
     "output_type": "stream",
     "text": [
      "No.of numerical variables =  20\n"
     ]
    }
   ],
   "source": [
    "numericals = [feature for feature in dataset_2.columns if dataset_2[feature].dtypes != 'object']\n",
    "print('No.of numerical variables = ', len(numericals))"
   ]
  },
  {
   "cell_type": "code",
   "execution_count": 10,
   "id": "4876c69d",
   "metadata": {},
   "outputs": [
    {
     "data": {
      "text/html": [
       "<div>\n",
       "<style scoped>\n",
       "    .dataframe tbody tr th:only-of-type {\n",
       "        vertical-align: middle;\n",
       "    }\n",
       "\n",
       "    .dataframe tbody tr th {\n",
       "        vertical-align: top;\n",
       "    }\n",
       "\n",
       "    .dataframe thead th {\n",
       "        text-align: right;\n",
       "    }\n",
       "</style>\n",
       "<table border=\"1\" class=\"dataframe\">\n",
       "  <thead>\n",
       "    <tr style=\"text-align: right;\">\n",
       "      <th></th>\n",
       "      <th>id</th>\n",
       "      <th>price</th>\n",
       "      <th>bedrooms</th>\n",
       "      <th>bathrooms</th>\n",
       "      <th>sqft_living</th>\n",
       "      <th>sqft_lot</th>\n",
       "      <th>floors</th>\n",
       "      <th>waterfront</th>\n",
       "      <th>view</th>\n",
       "      <th>condition</th>\n",
       "      <th>grade</th>\n",
       "      <th>sqft_above</th>\n",
       "      <th>sqft_basement</th>\n",
       "      <th>yr_built</th>\n",
       "      <th>yr_renovated</th>\n",
       "      <th>zipcode</th>\n",
       "      <th>lat</th>\n",
       "      <th>long</th>\n",
       "      <th>sqft_living15</th>\n",
       "      <th>sqft_lot15</th>\n",
       "    </tr>\n",
       "  </thead>\n",
       "  <tbody>\n",
       "    <tr>\n",
       "      <th>0</th>\n",
       "      <td>2487200875</td>\n",
       "      <td>604000.0</td>\n",
       "      <td>4</td>\n",
       "      <td>3.0</td>\n",
       "      <td>1960</td>\n",
       "      <td>5000</td>\n",
       "      <td>1.0</td>\n",
       "      <td>0</td>\n",
       "      <td>0</td>\n",
       "      <td>5</td>\n",
       "      <td>7</td>\n",
       "      <td>1050</td>\n",
       "      <td>910</td>\n",
       "      <td>1965</td>\n",
       "      <td>0</td>\n",
       "      <td>98136</td>\n",
       "      <td>47.5208</td>\n",
       "      <td>-122.393</td>\n",
       "      <td>1360</td>\n",
       "      <td>5000</td>\n",
       "    </tr>\n",
       "    <tr>\n",
       "      <th>1</th>\n",
       "      <td>7237550310</td>\n",
       "      <td>1225000.0</td>\n",
       "      <td>4</td>\n",
       "      <td>4.5</td>\n",
       "      <td>5420</td>\n",
       "      <td>101930</td>\n",
       "      <td>1.0</td>\n",
       "      <td>0</td>\n",
       "      <td>0</td>\n",
       "      <td>3</td>\n",
       "      <td>11</td>\n",
       "      <td>3890</td>\n",
       "      <td>1530</td>\n",
       "      <td>2001</td>\n",
       "      <td>0</td>\n",
       "      <td>98053</td>\n",
       "      <td>47.6561</td>\n",
       "      <td>-122.005</td>\n",
       "      <td>4760</td>\n",
       "      <td>101930</td>\n",
       "    </tr>\n",
       "  </tbody>\n",
       "</table>\n",
       "</div>"
      ],
      "text/plain": [
       "           id      price  bedrooms  bathrooms  sqft_living  sqft_lot  floors  \\\n",
       "0  2487200875   604000.0         4        3.0         1960      5000     1.0   \n",
       "1  7237550310  1225000.0         4        4.5         5420    101930     1.0   \n",
       "\n",
       "   waterfront  view  condition  grade  sqft_above  sqft_basement  yr_built  \\\n",
       "0           0     0          5      7        1050            910      1965   \n",
       "1           0     0          3     11        3890           1530      2001   \n",
       "\n",
       "   yr_renovated  zipcode      lat     long  sqft_living15  sqft_lot15  \n",
       "0             0    98136  47.5208 -122.393           1360        5000  \n",
       "1             0    98053  47.6561 -122.005           4760      101930  "
      ]
     },
     "execution_count": 10,
     "metadata": {},
     "output_type": "execute_result"
    }
   ],
   "source": [
    "dataset_2[numericals].head(2)"
   ]
  },
  {
   "cell_type": "code",
   "execution_count": 11,
   "id": "0168f5b5",
   "metadata": {},
   "outputs": [
    {
     "data": {
      "text/html": [
       "<div>\n",
       "<style scoped>\n",
       "    .dataframe tbody tr th:only-of-type {\n",
       "        vertical-align: middle;\n",
       "    }\n",
       "\n",
       "    .dataframe tbody tr th {\n",
       "        vertical-align: top;\n",
       "    }\n",
       "\n",
       "    .dataframe thead th {\n",
       "        text-align: right;\n",
       "    }\n",
       "</style>\n",
       "<table border=\"1\" class=\"dataframe\">\n",
       "  <thead>\n",
       "    <tr style=\"text-align: right;\">\n",
       "      <th></th>\n",
       "      <th>id</th>\n",
       "      <th>price</th>\n",
       "      <th>bedrooms</th>\n",
       "      <th>bathrooms</th>\n",
       "      <th>sqft_living</th>\n",
       "      <th>sqft_lot</th>\n",
       "      <th>floors</th>\n",
       "      <th>waterfront</th>\n",
       "      <th>view</th>\n",
       "      <th>condition</th>\n",
       "      <th>grade</th>\n",
       "      <th>sqft_above</th>\n",
       "      <th>sqft_basement</th>\n",
       "      <th>yr_built</th>\n",
       "      <th>yr_renovated</th>\n",
       "      <th>zipcode</th>\n",
       "      <th>lat</th>\n",
       "      <th>long</th>\n",
       "      <th>sqft_living15</th>\n",
       "      <th>sqft_lot15</th>\n",
       "    </tr>\n",
       "  </thead>\n",
       "  <tbody>\n",
       "    <tr>\n",
       "      <th>count</th>\n",
       "      <td>9.761000e+03</td>\n",
       "      <td>9.761000e+03</td>\n",
       "      <td>9761.000000</td>\n",
       "      <td>9761.000000</td>\n",
       "      <td>9761.000000</td>\n",
       "      <td>9.761000e+03</td>\n",
       "      <td>9761.000000</td>\n",
       "      <td>9761.000000</td>\n",
       "      <td>9761.000000</td>\n",
       "      <td>9761.000000</td>\n",
       "      <td>9761.00000</td>\n",
       "      <td>9761.000000</td>\n",
       "      <td>9761.000000</td>\n",
       "      <td>9761.000000</td>\n",
       "      <td>9761.000000</td>\n",
       "      <td>9761.000000</td>\n",
       "      <td>9761.000000</td>\n",
       "      <td>9761.000000</td>\n",
       "      <td>9761.000000</td>\n",
       "      <td>9761.000000</td>\n",
       "    </tr>\n",
       "    <tr>\n",
       "      <th>mean</th>\n",
       "      <td>4.605288e+09</td>\n",
       "      <td>5.427350e+05</td>\n",
       "      <td>3.375884</td>\n",
       "      <td>2.117175</td>\n",
       "      <td>2086.734146</td>\n",
       "      <td>1.521526e+04</td>\n",
       "      <td>1.486067</td>\n",
       "      <td>0.008401</td>\n",
       "      <td>0.248028</td>\n",
       "      <td>3.415531</td>\n",
       "      <td>7.66151</td>\n",
       "      <td>1793.291159</td>\n",
       "      <td>293.442987</td>\n",
       "      <td>1970.799508</td>\n",
       "      <td>86.066592</td>\n",
       "      <td>98077.790185</td>\n",
       "      <td>47.560052</td>\n",
       "      <td>-122.214322</td>\n",
       "      <td>1992.359697</td>\n",
       "      <td>12824.785165</td>\n",
       "    </tr>\n",
       "    <tr>\n",
       "      <th>std</th>\n",
       "      <td>2.876044e+09</td>\n",
       "      <td>3.795276e+05</td>\n",
       "      <td>0.960697</td>\n",
       "      <td>0.773971</td>\n",
       "      <td>927.194303</td>\n",
       "      <td>4.126673e+04</td>\n",
       "      <td>0.532317</td>\n",
       "      <td>0.091275</td>\n",
       "      <td>0.787877</td>\n",
       "      <td>0.650552</td>\n",
       "      <td>1.18268</td>\n",
       "      <td>835.763817</td>\n",
       "      <td>442.612722</td>\n",
       "      <td>29.240009</td>\n",
       "      <td>405.417369</td>\n",
       "      <td>53.203594</td>\n",
       "      <td>0.140236</td>\n",
       "      <td>0.139895</td>\n",
       "      <td>687.322247</td>\n",
       "      <td>26518.337402</td>\n",
       "    </tr>\n",
       "    <tr>\n",
       "      <th>min</th>\n",
       "      <td>1.200019e+06</td>\n",
       "      <td>8.000000e+04</td>\n",
       "      <td>0.000000</td>\n",
       "      <td>0.000000</td>\n",
       "      <td>290.000000</td>\n",
       "      <td>5.200000e+02</td>\n",
       "      <td>1.000000</td>\n",
       "      <td>0.000000</td>\n",
       "      <td>0.000000</td>\n",
       "      <td>1.000000</td>\n",
       "      <td>1.00000</td>\n",
       "      <td>290.000000</td>\n",
       "      <td>0.000000</td>\n",
       "      <td>1900.000000</td>\n",
       "      <td>0.000000</td>\n",
       "      <td>98001.000000</td>\n",
       "      <td>47.155900</td>\n",
       "      <td>-122.514000</td>\n",
       "      <td>620.000000</td>\n",
       "      <td>660.000000</td>\n",
       "    </tr>\n",
       "    <tr>\n",
       "      <th>25%</th>\n",
       "      <td>2.126049e+09</td>\n",
       "      <td>3.200000e+05</td>\n",
       "      <td>3.000000</td>\n",
       "      <td>1.750000</td>\n",
       "      <td>1420.000000</td>\n",
       "      <td>5.100000e+03</td>\n",
       "      <td>1.000000</td>\n",
       "      <td>0.000000</td>\n",
       "      <td>0.000000</td>\n",
       "      <td>3.000000</td>\n",
       "      <td>7.00000</td>\n",
       "      <td>1190.000000</td>\n",
       "      <td>0.000000</td>\n",
       "      <td>1951.000000</td>\n",
       "      <td>0.000000</td>\n",
       "      <td>98033.000000</td>\n",
       "      <td>47.467800</td>\n",
       "      <td>-122.327000</td>\n",
       "      <td>1490.000000</td>\n",
       "      <td>5160.000000</td>\n",
       "    </tr>\n",
       "    <tr>\n",
       "      <th>50%</th>\n",
       "      <td>3.905041e+09</td>\n",
       "      <td>4.500000e+05</td>\n",
       "      <td>3.000000</td>\n",
       "      <td>2.250000</td>\n",
       "      <td>1910.000000</td>\n",
       "      <td>7.642000e+03</td>\n",
       "      <td>1.500000</td>\n",
       "      <td>0.000000</td>\n",
       "      <td>0.000000</td>\n",
       "      <td>3.000000</td>\n",
       "      <td>7.00000</td>\n",
       "      <td>1570.000000</td>\n",
       "      <td>0.000000</td>\n",
       "      <td>1975.000000</td>\n",
       "      <td>0.000000</td>\n",
       "      <td>98065.000000</td>\n",
       "      <td>47.572200</td>\n",
       "      <td>-122.229000</td>\n",
       "      <td>1840.000000</td>\n",
       "      <td>7660.000000</td>\n",
       "    </tr>\n",
       "    <tr>\n",
       "      <th>75%</th>\n",
       "      <td>7.338403e+09</td>\n",
       "      <td>6.490000e+05</td>\n",
       "      <td>4.000000</td>\n",
       "      <td>2.500000</td>\n",
       "      <td>2570.000000</td>\n",
       "      <td>1.066000e+04</td>\n",
       "      <td>2.000000</td>\n",
       "      <td>0.000000</td>\n",
       "      <td>0.000000</td>\n",
       "      <td>4.000000</td>\n",
       "      <td>8.00000</td>\n",
       "      <td>2230.000000</td>\n",
       "      <td>570.000000</td>\n",
       "      <td>1996.000000</td>\n",
       "      <td>0.000000</td>\n",
       "      <td>98117.000000</td>\n",
       "      <td>47.680400</td>\n",
       "      <td>-122.126000</td>\n",
       "      <td>2370.000000</td>\n",
       "      <td>10113.000000</td>\n",
       "    </tr>\n",
       "    <tr>\n",
       "      <th>max</th>\n",
       "      <td>9.900000e+09</td>\n",
       "      <td>7.700000e+06</td>\n",
       "      <td>33.000000</td>\n",
       "      <td>8.000000</td>\n",
       "      <td>12050.000000</td>\n",
       "      <td>1.651359e+06</td>\n",
       "      <td>3.500000</td>\n",
       "      <td>1.000000</td>\n",
       "      <td>4.000000</td>\n",
       "      <td>5.000000</td>\n",
       "      <td>13.00000</td>\n",
       "      <td>8860.000000</td>\n",
       "      <td>3480.000000</td>\n",
       "      <td>2015.000000</td>\n",
       "      <td>2015.000000</td>\n",
       "      <td>98199.000000</td>\n",
       "      <td>47.777600</td>\n",
       "      <td>-121.319000</td>\n",
       "      <td>5790.000000</td>\n",
       "      <td>560617.000000</td>\n",
       "    </tr>\n",
       "  </tbody>\n",
       "</table>\n",
       "</div>"
      ],
      "text/plain": [
       "                 id         price     bedrooms    bathrooms   sqft_living  \\\n",
       "count  9.761000e+03  9.761000e+03  9761.000000  9761.000000   9761.000000   \n",
       "mean   4.605288e+09  5.427350e+05     3.375884     2.117175   2086.734146   \n",
       "std    2.876044e+09  3.795276e+05     0.960697     0.773971    927.194303   \n",
       "min    1.200019e+06  8.000000e+04     0.000000     0.000000    290.000000   \n",
       "25%    2.126049e+09  3.200000e+05     3.000000     1.750000   1420.000000   \n",
       "50%    3.905041e+09  4.500000e+05     3.000000     2.250000   1910.000000   \n",
       "75%    7.338403e+09  6.490000e+05     4.000000     2.500000   2570.000000   \n",
       "max    9.900000e+09  7.700000e+06    33.000000     8.000000  12050.000000   \n",
       "\n",
       "           sqft_lot       floors   waterfront         view    condition  \\\n",
       "count  9.761000e+03  9761.000000  9761.000000  9761.000000  9761.000000   \n",
       "mean   1.521526e+04     1.486067     0.008401     0.248028     3.415531   \n",
       "std    4.126673e+04     0.532317     0.091275     0.787877     0.650552   \n",
       "min    5.200000e+02     1.000000     0.000000     0.000000     1.000000   \n",
       "25%    5.100000e+03     1.000000     0.000000     0.000000     3.000000   \n",
       "50%    7.642000e+03     1.500000     0.000000     0.000000     3.000000   \n",
       "75%    1.066000e+04     2.000000     0.000000     0.000000     4.000000   \n",
       "max    1.651359e+06     3.500000     1.000000     4.000000     5.000000   \n",
       "\n",
       "            grade   sqft_above  sqft_basement     yr_built  yr_renovated  \\\n",
       "count  9761.00000  9761.000000    9761.000000  9761.000000   9761.000000   \n",
       "mean      7.66151  1793.291159     293.442987  1970.799508     86.066592   \n",
       "std       1.18268   835.763817     442.612722    29.240009    405.417369   \n",
       "min       1.00000   290.000000       0.000000  1900.000000      0.000000   \n",
       "25%       7.00000  1190.000000       0.000000  1951.000000      0.000000   \n",
       "50%       7.00000  1570.000000       0.000000  1975.000000      0.000000   \n",
       "75%       8.00000  2230.000000     570.000000  1996.000000      0.000000   \n",
       "max      13.00000  8860.000000    3480.000000  2015.000000   2015.000000   \n",
       "\n",
       "            zipcode          lat         long  sqft_living15     sqft_lot15  \n",
       "count   9761.000000  9761.000000  9761.000000    9761.000000    9761.000000  \n",
       "mean   98077.790185    47.560052  -122.214322    1992.359697   12824.785165  \n",
       "std       53.203594     0.140236     0.139895     687.322247   26518.337402  \n",
       "min    98001.000000    47.155900  -122.514000     620.000000     660.000000  \n",
       "25%    98033.000000    47.467800  -122.327000    1490.000000    5160.000000  \n",
       "50%    98065.000000    47.572200  -122.229000    1840.000000    7660.000000  \n",
       "75%    98117.000000    47.680400  -122.126000    2370.000000   10113.000000  \n",
       "max    98199.000000    47.777600  -121.319000    5790.000000  560617.000000  "
      ]
     },
     "execution_count": 11,
     "metadata": {},
     "output_type": "execute_result"
    }
   ],
   "source": [
    "dataset_2[numericals].describe()               #7-point description of all numerical variables"
   ]
  },
  {
   "cell_type": "markdown",
   "id": "e85b2e57",
   "metadata": {},
   "source": [
    "### Date-time variables:-\n",
    "\n",
    "Here in the dataset we have 2 year variables.We have to extract information from these variables like no.of years or no.of days."
   ]
  },
  {
   "cell_type": "code",
   "execution_count": 12,
   "id": "b75a16b1",
   "metadata": {},
   "outputs": [
    {
     "data": {
      "text/plain": [
       "['yr_built', 'yr_renovated']"
      ]
     },
     "execution_count": 12,
     "metadata": {},
     "output_type": "execute_result"
    }
   ],
   "source": [
    "# list of variables that contain year features\n",
    "years_feature = [feature for feature in numericals if 'yr' in feature]\n",
    "years_feature"
   ]
  },
  {
   "cell_type": "code",
   "execution_count": 13,
   "id": "89f79215",
   "metadata": {},
   "outputs": [
    {
     "name": "stdout",
     "output_type": "stream",
     "text": [
      "yr_built [1965 2001 1942 1927 1977 1979 1916 1947 1995 1985 1941 1915 1948 1981\n",
      " 1996 2014 1959 2003 1966 1953 1955 1950 1954 1989 1968 1973 2005 1956\n",
      " 2002 1952 1925 1961 1988 1939 1975 1980 1992 1910 1991 2010 1987 1914\n",
      " 1978 2004 1986 1923 1960 1990 1962 1976 1949 2008 1920 2007 1997 1994\n",
      " 1993 1999 1983 1904 1940 1928 2006 1937 1982 1969 1929 1957 1964 1913\n",
      " 1984 1908 1943 1922 1911 1930 1907 2013 1958 1998 1967 1909 1974 1972\n",
      " 1912 1917 1900 2000 1924 1951 1932 1971 1946 1963 2012 1970 1944 1918\n",
      " 1905 2009 1936 1926 1906 1902 1938 1919 1903 1921 1931 1901 1933 1945\n",
      " 2011 1935 2015 1934]\n",
      "yr_renovated [   0 1992 1994 1978 2005 2008 1984 2014 1974 1983 2013 2003 1945 1990\n",
      " 1988 1957 1977 1995 2000 1999 1986 2007 1987 1973 2006 2001 1980 1997\n",
      " 2002 1950 1991 2015 1989 1963 1962 1996 1981 1972 1970 1985 2004 1982\n",
      " 1993 2010 2011 1971 2009 1998 1969 1940 1976 2012 1946 1964 1975 1953\n",
      " 1958 1959 1967 1968 1956 1955 1960 1979 1965]\n"
     ]
    }
   ],
   "source": [
    "# Understanding the year feature\n",
    "for feature in years_feature:\n",
    "    print(feature,dataset_2[feature].unique())"
   ]
  },
  {
   "cell_type": "markdown",
   "id": "dc7b5024",
   "metadata": {},
   "source": [
    "Year renovated = 0 signifies that the house has not been renovated."
   ]
  },
  {
   "cell_type": "code",
   "execution_count": 14,
   "id": "1e2126f9",
   "metadata": {},
   "outputs": [
    {
     "data": {
      "image/png": "[encoded data removed]",
      "text/plain": [
       "<Figure size 432x288 with 1 Axes>"
      ]
     },
     "metadata": {
      "needs_background": "light"
     },
     "output_type": "display_data"
    }
   ],
   "source": [
    "# Examining Datetime feature wit respect to price\n",
    "# Understanding whether there is a relationship between Year the house is built and Price \n",
    "\n",
    "dataset_2.groupby('yr_built')['price'].median().plot()    #plot of year built vs price of house grouped by the year\n",
    "plt.xlabel(\"Year Built\")\n",
    "plt.ylabel(\"Price\")\n",
    "plt.title(\"Year Built Vs Price\")\n",
    "plt.show()"
   ]
  },
  {
   "cell_type": "markdown",
   "id": "b041cbfd",
   "metadata": {},
   "source": [
    "The above graph represents the trend of house prices across the years."
   ]
  },
  {
   "cell_type": "code",
   "execution_count": 15,
   "id": "f1e75fe1",
   "metadata": {},
   "outputs": [
    {
     "data": {
      "image/png": "[encoded data removed]",
      "text/plain": [
       "<Figure size 432x288 with 1 Axes>"
      ]
     },
     "metadata": {
      "needs_background": "light"
     },
     "output_type": "display_data"
    }
   ],
   "source": [
    "# Here we compare Datetime variables with Price\n",
    "\n",
    "for feature in years_feature:\n",
    "    if feature != 'yr_built':                             #plotting for year renovated vs price\n",
    "        data = dataset_2.copy()  #creating a copy of our dataset\n",
    "        data[feature] = data['yr_built'] - data[feature]\n",
    "        \n",
    "        plt.scatter(data[feature],data['price'])\n",
    "        plt.xlabel(feature)\n",
    "        plt.ylabel(\"Price\")\n",
    "        plt.title(\"Year Renovated Vs Price\")\n",
    "        plt.show()"
   ]
  },
  {
   "cell_type": "markdown",
   "id": "ef75a5b9",
   "metadata": {},
   "source": [
    "Here we see that if the house is recently renovated then the price of the house is high. "
   ]
  },
  {
   "cell_type": "markdown",
   "id": "84c96fca",
   "metadata": {},
   "source": [
    "#### Numerical variables are of two types:\n",
    "1. Continous \n",
    "2. Discrete"
   ]
  },
  {
   "cell_type": "markdown",
   "id": "753b715c",
   "metadata": {},
   "source": [
    "We separate the continous and discrete variables for further exploration."
   ]
  },
  {
   "cell_type": "code",
   "execution_count": 16,
   "id": "8510963a",
   "metadata": {},
   "outputs": [
    {
     "data": {
      "text/plain": [
       "['bedrooms', 'floors', 'waterfront', 'view', 'condition', 'grade']"
      ]
     },
     "execution_count": 16,
     "metadata": {},
     "output_type": "execute_result"
    }
   ],
   "source": [
    "# Checking discrete variables \n",
    "discrete_feature = [feature for feature in numericals if len(dataset_2[feature].unique()) < 25 and feature not in years_feature+['id']]\n",
    "discrete_feature"
   ]
  },
  {
   "cell_type": "code",
   "execution_count": 17,
   "id": "b8244c14",
   "metadata": {},
   "outputs": [
    {
     "data": {
      "text/plain": [
       "['price',\n",
       " 'bathrooms',\n",
       " 'sqft_living',\n",
       " 'sqft_lot',\n",
       " 'sqft_above',\n",
       " 'sqft_basement',\n",
       " 'zipcode',\n",
       " 'lat',\n",
       " 'long',\n",
       " 'sqft_living15',\n",
       " 'sqft_lot15']"
      ]
     },
     "execution_count": 17,
     "metadata": {},
     "output_type": "execute_result"
    }
   ],
   "source": [
    "# Checking continous variables\n",
    "continous_feature = [feature for feature in numericals if feature not in discrete_feature + years_feature + ['id']]\n",
    "continous_feature"
   ]
  },
  {
   "cell_type": "markdown",
   "id": "0e9688f5",
   "metadata": {},
   "source": [
    "##### We plot histograms to check the skewness for continous variables."
   ]
  },
  {
   "cell_type": "code",
   "execution_count": 18,
   "id": "c4444da4",
   "metadata": {},
   "outputs": [
    {
     "data": {
      "image/png": "[encoded data removed]",
      "text/plain": [
       "<Figure size 432x288 with 1 Axes>"
      ]
     },
     "metadata": {
      "needs_background": "light"
     },
     "output_type": "display_data"
    },
    {
     "data": {
      "image/png": "[encoded data removed]",
      "text/plain": [
       "<Figure size 432x288 with 1 Axes>"
      ]
     },
     "metadata": {
      "needs_background": "light"
     },
     "output_type": "display_data"
    },
    {
     "data": {
      "image/png": "[encoded data removed]",
      "text/plain": [
       "<Figure size 432x288 with 1 Axes>"
      ]
     },
     "metadata": {
      "needs_background": "light"
     },
     "output_type": "display_data"
    },
    {
     "data": {
      "image/png": "[encoded data removed]",
      "text/plain": [
       "<Figure size 432x288 with 1 Axes>"
      ]
     },
     "metadata": {
      "needs_background": "light"
     },
     "output_type": "display_data"
    },
    {
     "data": {
      "image/png": "[encoded data removed]",
      "text/plain": [
       "<Figure size 432x288 with 1 Axes>"
      ]
     },
     "metadata": {
      "needs_background": "light"
     },
     "output_type": "display_data"
    },
    {
     "data": {
      "image/png": "[encoded data removed]",
      "text/plain": [
       "<Figure size 432x288 with 1 Axes>"
      ]
     },
     "metadata": {
      "needs_background": "light"
     },
     "output_type": "display_data"
    },
    {
     "data": {
      "image/png": "[encoded data removed]",
      "text/plain": [
       "<Figure size 432x288 with 1 Axes>"
      ]
     },
     "metadata": {
      "needs_background": "light"
     },
     "output_type": "display_data"
    },
    {
     "data": {
      "image/png": "[encoded data removed]",
      "text/plain": [
       "<Figure size 432x288 with 1 Axes>"
      ]
     },
     "metadata": {
      "needs_background": "light"
     },
     "output_type": "display_data"
    },
    {
     "data": {
      "image/png": "[encoded data removed]",
      "text/plain": [
       "<Figure size 432x288 with 1 Axes>"
      ]
     },
     "metadata": {
      "needs_background": "light"
     },
     "output_type": "display_data"
    },
    {
     "data": {
      "image/png": "[encoded data removed]",
      "text/plain": [
       "<Figure size 432x288 with 1 Axes>"
      ]
     },
     "metadata": {
      "needs_background": "light"
     },
     "output_type": "display_data"
    },
    {
     "data": {
      "image/png": "[encoded data removed]",
      "text/plain": [
       "<Figure size 432x288 with 1 Axes>"
      ]
     },
     "metadata": {
      "needs_background": "light"
     },
     "output_type": "display_data"
    }
   ],
   "source": [
    "for feature in continous_feature:\n",
    "    data=dataset_2.copy()               #copying data into another dataset for plotting so as to keep the original data.\n",
    "    data[feature].hist(bins=25)         #plotting histogram for each continous variable in the feature list\n",
    "    plt.xlabel(feature)                 #displaying the x and the y labels\n",
    "    plt.ylabel(\"Frequency\")\n",
    "    plt.show()"
   ]
  },
  {
   "cell_type": "markdown",
   "id": "ca4aedc1",
   "metadata": {},
   "source": [
    "Some of the features have normal distribution and some of them are skewed. If data is skewed we transform it into log normal distribution."
   ]
  },
  {
   "cell_type": "markdown",
   "id": "ee4a1e7d",
   "metadata": {},
   "source": [
    "We plot the bar plots to study the relationship of discrete variables with price."
   ]
  },
  {
   "cell_type": "code",
   "execution_count": 19,
   "id": "c1df41ee",
   "metadata": {},
   "outputs": [
    {
     "data": {
      "text/html": [
       "<div>\n",
       "<style scoped>\n",
       "    .dataframe tbody tr th:only-of-type {\n",
       "        vertical-align: middle;\n",
       "    }\n",
       "\n",
       "    .dataframe tbody tr th {\n",
       "        vertical-align: top;\n",
       "    }\n",
       "\n",
       "    .dataframe thead th {\n",
       "        text-align: right;\n",
       "    }\n",
       "</style>\n",
       "<table border=\"1\" class=\"dataframe\">\n",
       "  <thead>\n",
       "    <tr style=\"text-align: right;\">\n",
       "      <th></th>\n",
       "      <th>bedrooms</th>\n",
       "      <th>floors</th>\n",
       "      <th>waterfront</th>\n",
       "      <th>view</th>\n",
       "      <th>condition</th>\n",
       "      <th>grade</th>\n",
       "    </tr>\n",
       "  </thead>\n",
       "  <tbody>\n",
       "    <tr>\n",
       "      <th>0</th>\n",
       "      <td>4</td>\n",
       "      <td>1.0</td>\n",
       "      <td>0</td>\n",
       "      <td>0</td>\n",
       "      <td>5</td>\n",
       "      <td>7</td>\n",
       "    </tr>\n",
       "    <tr>\n",
       "      <th>1</th>\n",
       "      <td>4</td>\n",
       "      <td>1.0</td>\n",
       "      <td>0</td>\n",
       "      <td>0</td>\n",
       "      <td>3</td>\n",
       "      <td>11</td>\n",
       "    </tr>\n",
       "    <tr>\n",
       "      <th>2</th>\n",
       "      <td>2</td>\n",
       "      <td>1.0</td>\n",
       "      <td>0</td>\n",
       "      <td>0</td>\n",
       "      <td>4</td>\n",
       "      <td>7</td>\n",
       "    </tr>\n",
       "    <tr>\n",
       "      <th>3</th>\n",
       "      <td>3</td>\n",
       "      <td>1.5</td>\n",
       "      <td>0</td>\n",
       "      <td>0</td>\n",
       "      <td>4</td>\n",
       "      <td>7</td>\n",
       "    </tr>\n",
       "    <tr>\n",
       "      <th>4</th>\n",
       "      <td>3</td>\n",
       "      <td>1.0</td>\n",
       "      <td>0</td>\n",
       "      <td>0</td>\n",
       "      <td>4</td>\n",
       "      <td>7</td>\n",
       "    </tr>\n",
       "  </tbody>\n",
       "</table>\n",
       "</div>"
      ],
      "text/plain": [
       "   bedrooms  floors  waterfront  view  condition  grade\n",
       "0         4     1.0           0     0          5      7\n",
       "1         4     1.0           0     0          3     11\n",
       "2         2     1.0           0     0          4      7\n",
       "3         3     1.5           0     0          4      7\n",
       "4         3     1.0           0     0          4      7"
      ]
     },
     "execution_count": 19,
     "metadata": {},
     "output_type": "execute_result"
    }
   ],
   "source": [
    "dataset_2[discrete_feature].head()"
   ]
  },
  {
   "cell_type": "code",
   "execution_count": 20,
   "id": "bbdab152",
   "metadata": {
    "scrolled": true
   },
   "outputs": [
    {
     "data": {
      "image/png": "[encoded data removed]",
      "text/plain": [
       "<Figure size 432x288 with 1 Axes>"
      ]
     },
     "metadata": {
      "needs_background": "light"
     },
     "output_type": "display_data"
    },
    {
     "data": {
      "image/png": "[encoded data removed]",
      "text/plain": [
       "<Figure size 432x288 with 1 Axes>"
      ]
     },
     "metadata": {
      "needs_background": "light"
     },
     "output_type": "display_data"
    },
    {
     "data": {
      "image/png": "[encoded data removed]",
      "text/plain": [
       "<Figure size 432x288 with 1 Axes>"
      ]
     },
     "metadata": {
      "needs_background": "light"
     },
     "output_type": "display_data"
    },
    {
     "data": {
      "image/png": "[encoded data removed]",
      "text/plain": [
       "<Figure size 432x288 with 1 Axes>"
      ]
     },
     "metadata": {
      "needs_background": "light"
     },
     "output_type": "display_data"
    },
    {
     "data": {
      "image/png": "[encoded data removed]",
      "text/plain": [
       "<Figure size 432x288 with 1 Axes>"
      ]
     },
     "metadata": {
      "needs_background": "light"
     },
     "output_type": "display_data"
    },
    {
     "data": {
      "image/png": "[encoded data removed]",
      "text/plain": [
       "<Figure size 432x288 with 1 Axes>"
      ]
     },
     "metadata": {
      "needs_background": "light"
     },
     "output_type": "display_data"
    }
   ],
   "source": [
    "# Finding relationship between discrete feature and price\n",
    "\n",
    "for feature in discrete_feature:        #plotting bar plota for all the variables in the feature list\n",
    "    sns.barplot(x = feature , y = 'price' , data = dataset_2 )  \n",
    "    \n",
    "    plt.xlabel(feature)                 #displaying the x and the y labels\n",
    "    plt.ylabel(\"Price\")\n",
    "    plt.title(feature)\n",
    "    plt.show()"
   ]
  },
  {
   "cell_type": "markdown",
   "id": "0bf8c011",
   "metadata": {},
   "source": [
    "Here the relationship between grade and price is exponential."
   ]
  },
  {
   "cell_type": "code",
   "execution_count": 21,
   "id": "5d1de066",
   "metadata": {},
   "outputs": [
    {
     "data": {
      "image/png": "[encoded data removed]",
      "text/plain": [
       "<Figure size 432x288 with 1 Axes>"
      ]
     },
     "metadata": {
      "needs_background": "light"
     },
     "output_type": "display_data"
    },
    {
     "data": {
      "image/png": "[encoded data removed]",
      "text/plain": [
       "<Figure size 432x288 with 1 Axes>"
      ]
     },
     "metadata": {
      "needs_background": "light"
     },
     "output_type": "display_data"
    },
    {
     "data": {
      "image/png": "[encoded data removed]",
      "text/plain": [
       "<Figure size 432x288 with 1 Axes>"
      ]
     },
     "metadata": {
      "needs_background": "light"
     },
     "output_type": "display_data"
    },
    {
     "data": {
      "image/png": "[encoded data removed]",
      "text/plain": [
       "<Figure size 432x288 with 1 Axes>"
      ]
     },
     "metadata": {
      "needs_background": "light"
     },
     "output_type": "display_data"
    },
    {
     "data": {
      "image/png": "[encoded data removed]",
      "text/plain": [
       "<Figure size 432x288 with 1 Axes>"
      ]
     },
     "metadata": {
      "needs_background": "light"
     },
     "output_type": "display_data"
    },
    {
     "data": {
      "image/png": "[encoded data removed]",
      "text/plain": [
       "<Figure size 432x288 with 1 Axes>"
      ]
     },
     "metadata": {
      "needs_background": "light"
     },
     "output_type": "display_data"
    },
    {
     "name": "stderr",
     "output_type": "stream",
     "text": [
      "C:\\Users\\Lenovo\\anaconda3\\lib\\site-packages\\pandas\\core\\arraylike.py:358: RuntimeWarning: invalid value encountered in log\n",
      "  result = getattr(ufunc, method)(*inputs, **kwargs)\n"
     ]
    },
    {
     "data": {
      "image/png": "[encoded data removed]",
      "text/plain": [
       "<Figure size 432x288 with 1 Axes>"
      ]
     },
     "metadata": {
      "needs_background": "light"
     },
     "output_type": "display_data"
    },
    {
     "data": {
      "image/png": "[encoded data removed]",
      "text/plain": [
       "<Figure size 432x288 with 1 Axes>"
      ]
     },
     "metadata": {
      "needs_background": "light"
     },
     "output_type": "display_data"
    },
    {
     "data": {
      "image/png": "[encoded data removed]",
      "text/plain": [
       "<Figure size 432x288 with 1 Axes>"
      ]
     },
     "metadata": {
      "needs_background": "light"
     },
     "output_type": "display_data"
    }
   ],
   "source": [
    "# We will be using log transformation\n",
    "#plotting the scatter plots to study the relationship between the price and the features.\n",
    "#this will help us in understanding how price is dependent on a variable and also deciding the predictors.\n",
    "for feature in continous_feature:\n",
    "    data = dataset_2.copy()\n",
    "    if 0 in data[feature].unique():\n",
    "        pass\n",
    "    else:\n",
    "        data[feature] = np.log(data[feature])\n",
    "        data['price'] = np.log(data['price'])\n",
    "        plt.scatter(data[feature],data['price'])\n",
    "        plt.xlabel(feature)\n",
    "        plt.ylabel('Price')\n",
    "        plt.title(feature)\n",
    "        plt.show()"
   ]
  },
  {
   "cell_type": "markdown",
   "id": "505199b4",
   "metadata": {},
   "source": [
    "Here we can see that all the features have monotonic relationship with Price. And we can also see the have a positive correlation. As sqft_living increases the sales price of the house also increases, and same is for rest of the features."
   ]
  },
  {
   "cell_type": "markdown",
   "id": "24f4b391",
   "metadata": {},
   "source": [
    "## Outliers :"
   ]
  },
  {
   "cell_type": "code",
   "execution_count": 22,
   "id": "9bf4f2e1",
   "metadata": {},
   "outputs": [
    {
     "data": {
      "image/png": "[encoded data removed]",
      "text/plain": [
       "<Figure size 432x288 with 1 Axes>"
      ]
     },
     "metadata": {
      "needs_background": "light"
     },
     "output_type": "display_data"
    },
    {
     "data": {
      "image/png": "[encoded data removed]",
      "text/plain": [
       "<Figure size 432x288 with 1 Axes>"
      ]
     },
     "metadata": {
      "needs_background": "light"
     },
     "output_type": "display_data"
    },
    {
     "data": {
      "image/png": "[encoded data removed]",
      "text/plain": [
       "<Figure size 432x288 with 1 Axes>"
      ]
     },
     "metadata": {
      "needs_background": "light"
     },
     "output_type": "display_data"
    },
    {
     "data": {
      "image/png": "[encoded data removed]",
      "text/plain": [
       "<Figure size 432x288 with 1 Axes>"
      ]
     },
     "metadata": {
      "needs_background": "light"
     },
     "output_type": "display_data"
    },
    {
     "data": {
      "image/png": "[encoded data removed]",
      "text/plain": [
       "<Figure size 432x288 with 1 Axes>"
      ]
     },
     "metadata": {
      "needs_background": "light"
     },
     "output_type": "display_data"
    },
    {
     "data": {
      "image/png": "[encoded data removed]",
      "text/plain": [
       "<Figure size 432x288 with 1 Axes>"
      ]
     },
     "metadata": {
      "needs_background": "light"
     },
     "output_type": "display_data"
    },
    {
     "name": "stderr",
     "output_type": "stream",
     "text": [
      "C:\\Users\\Lenovo\\anaconda3\\lib\\site-packages\\pandas\\core\\arraylike.py:358: RuntimeWarning: invalid value encountered in log\n",
      "  result = getattr(ufunc, method)(*inputs, **kwargs)\n"
     ]
    },
    {
     "data": {
      "image/png": "[encoded data removed]",
      "text/plain": [
       "<Figure size 432x288 with 1 Axes>"
      ]
     },
     "metadata": {
      "needs_background": "light"
     },
     "output_type": "display_data"
    },
    {
     "data": {
      "image/png": "[encoded data removed]",
      "text/plain": [
       "<Figure size 432x288 with 1 Axes>"
      ]
     },
     "metadata": {
      "needs_background": "light"
     },
     "output_type": "display_data"
    },
    {
     "data": {
      "image/png": "[encoded data removed]",
      "text/plain": [
       "<Figure size 432x288 with 1 Axes>"
      ]
     },
     "metadata": {
      "needs_background": "light"
     },
     "output_type": "display_data"
    }
   ],
   "source": [
    "#plotting the box plots of features in the dataset to check for outliers\n",
    "for feature in continous_feature:\n",
    "    data = dataset_2.copy()\n",
    "    if 0 in data[feature].unique():\n",
    "        pass \n",
    "    else:\n",
    "        data[feature] = np.log(data[feature])\n",
    "        data.boxplot(column=feature)\n",
    "        #plt.ylabel(feature)\n",
    "        plt.title(feature)\n",
    "        plt.show()"
   ]
  },
  {
   "cell_type": "markdown",
   "id": "328e6972",
   "metadata": {},
   "source": [
    "Here we see that there are lot of outliers in the data. "
   ]
  },
  {
   "cell_type": "markdown",
   "id": "87ca7627",
   "metadata": {},
   "source": [
    "## Categorical Variables :"
   ]
  },
  {
   "cell_type": "code",
   "execution_count": 23,
   "id": "88ece87a",
   "metadata": {},
   "outputs": [
    {
     "data": {
      "text/plain": [
       "['date']"
      ]
     },
     "execution_count": 23,
     "metadata": {},
     "output_type": "execute_result"
    }
   ],
   "source": [
    "categorical_feature = [feature for feature in dataset_2.columns if data[feature].dtypes=='O']\n",
    "categorical_feature"
   ]
  },
  {
   "cell_type": "code",
   "execution_count": 24,
   "id": "0c652aaf",
   "metadata": {},
   "outputs": [
    {
     "data": {
      "text/html": [
       "<div>\n",
       "<style scoped>\n",
       "    .dataframe tbody tr th:only-of-type {\n",
       "        vertical-align: middle;\n",
       "    }\n",
       "\n",
       "    .dataframe tbody tr th {\n",
       "        vertical-align: top;\n",
       "    }\n",
       "\n",
       "    .dataframe thead th {\n",
       "        text-align: right;\n",
       "    }\n",
       "</style>\n",
       "<table border=\"1\" class=\"dataframe\">\n",
       "  <thead>\n",
       "    <tr style=\"text-align: right;\">\n",
       "      <th></th>\n",
       "      <th>date</th>\n",
       "    </tr>\n",
       "  </thead>\n",
       "  <tbody>\n",
       "    <tr>\n",
       "      <th>0</th>\n",
       "      <td>20141209T000000</td>\n",
       "    </tr>\n",
       "    <tr>\n",
       "      <th>1</th>\n",
       "      <td>20140512T000000</td>\n",
       "    </tr>\n",
       "    <tr>\n",
       "      <th>2</th>\n",
       "      <td>20140527T000000</td>\n",
       "    </tr>\n",
       "    <tr>\n",
       "      <th>3</th>\n",
       "      <td>20140528T000000</td>\n",
       "    </tr>\n",
       "    <tr>\n",
       "      <th>4</th>\n",
       "      <td>20141007T000000</td>\n",
       "    </tr>\n",
       "  </tbody>\n",
       "</table>\n",
       "</div>"
      ],
      "text/plain": [
       "              date\n",
       "0  20141209T000000\n",
       "1  20140512T000000\n",
       "2  20140527T000000\n",
       "3  20140528T000000\n",
       "4  20141007T000000"
      ]
     },
     "execution_count": 24,
     "metadata": {},
     "output_type": "execute_result"
    }
   ],
   "source": [
    "dataset_2[categorical_feature].head()"
   ]
  },
  {
   "cell_type": "code",
   "execution_count": 25,
   "id": "e97dfc6b",
   "metadata": {},
   "outputs": [
    {
     "name": "stdout",
     "output_type": "stream",
     "text": [
      "date 357\n"
     ]
    }
   ],
   "source": [
    "for feature in categorical_feature:\n",
    "    print(feature,len(dataset_2[feature].unique()))       #getting no.of unique categorical features"
   ]
  },
  {
   "cell_type": "code",
   "execution_count": 26,
   "id": "59a699b0",
   "metadata": {},
   "outputs": [
    {
     "data": {
      "image/png": "[encoded data removed]",
      "text/plain": [
       "<Figure size 432x288 with 1 Axes>"
      ]
     },
     "metadata": {
      "needs_background": "light"
     },
     "output_type": "display_data"
    }
   ],
   "source": [
    "# Finding out relationship between categorical variable and Price\n",
    "for feature in categorical_feature:\n",
    "    data=dataset_2.copy()\n",
    "    sns.barplot(x = feature , y = 'price' , data = data )\n",
    "    plt.xlabel(feature)\n",
    "    plt.ylabel('Price')\n",
    "    plt.title(feature)\n",
    "    plt.show()"
   ]
  },
  {
   "cell_type": "markdown",
   "id": "935d8fce",
   "metadata": {},
   "source": [
    "## Model Fitting :"
   ]
  },
  {
   "cell_type": "markdown",
   "id": "d3eca821",
   "metadata": {},
   "source": [
    "Here we try to fit Linear regression models on the train data and compute the R-squared and the RMSE values by doing a  10 fold cross validation on the training data."
   ]
  },
  {
   "cell_type": "markdown",
   "id": "ed980211",
   "metadata": {},
   "source": [
    "#### Model 1 :"
   ]
  },
  {
   "cell_type": "code",
   "execution_count": 27,
   "id": "91e12c0d",
   "metadata": {},
   "outputs": [],
   "source": [
    "X = dataset_2[['sqft_living']]         #taking sqft_living as the predictor \n",
    "y = dataset_2['price']                 #taking price as the target variable"
   ]
  },
  {
   "cell_type": "code",
   "execution_count": 28,
   "id": "d7ba5ac8",
   "metadata": {},
   "outputs": [],
   "source": [
    "from sklearn.linear_model import LinearRegression"
   ]
  },
  {
   "cell_type": "code",
   "execution_count": 29,
   "id": "70c64e89",
   "metadata": {},
   "outputs": [
    {
     "data": {
      "text/plain": [
       "LinearRegression()"
      ]
     },
     "execution_count": 29,
     "metadata": {},
     "output_type": "execute_result"
    }
   ],
   "source": [
    "LR = LinearRegression()               #fitting a linear regression model\n",
    "LR.fit(X,y)"
   ]
  },
  {
   "cell_type": "code",
   "execution_count": 30,
   "id": "8d5fc8ce",
   "metadata": {},
   "outputs": [],
   "source": [
    "#perform 10 fold cross validation to get the cross validation scores"
   ]
  },
  {
   "cell_type": "code",
   "execution_count": 31,
   "id": "936d8dbd",
   "metadata": {},
   "outputs": [],
   "source": [
    "from sklearn.model_selection import cross_val_score          \n",
    "scores = cross_val_score(LR,X,y,cv=10,scoring='r2')          #CV score with R squared as the metric\n",
    "cv_scores = scores.mean()                                    #taking the mean of the score"
   ]
  },
  {
   "cell_type": "code",
   "execution_count": 32,
   "id": "16cd1d9c",
   "metadata": {
    "scrolled": false
   },
   "outputs": [
    {
     "data": {
      "text/plain": [
       "0.49"
      ]
     },
     "execution_count": 32,
     "metadata": {},
     "output_type": "execute_result"
    }
   ],
   "source": [
    "np.round(cv_scores,2)"
   ]
  },
  {
   "cell_type": "code",
   "execution_count": 33,
   "id": "f123a740",
   "metadata": {},
   "outputs": [],
   "source": [
    "from sklearn.model_selection import cross_val_score          \n",
    "scores = cross_val_score(LR,X,y,cv=10,scoring='neg_root_mean_squared_error')          #CV score with RMSE as the metric\n",
    "cv_scores = scores.mean()                                    #taking the mean of the score"
   ]
  },
  {
   "cell_type": "code",
   "execution_count": 34,
   "id": "08d817c8",
   "metadata": {
    "scrolled": false
   },
   "outputs": [
    {
     "data": {
      "text/plain": [
       "268686.24"
      ]
     },
     "execution_count": 34,
     "metadata": {},
     "output_type": "execute_result"
    }
   ],
   "source": [
    "np.round(np.abs(cv_scores),2)"
   ]
  },
  {
   "cell_type": "markdown",
   "id": "87dc7ecc",
   "metadata": {},
   "source": [
    "#### Model 2 :"
   ]
  },
  {
   "cell_type": "code",
   "execution_count": 35,
   "id": "3687ac79",
   "metadata": {},
   "outputs": [],
   "source": [
    "X = dataset_2[['sqft_living','grade']] #taking sqft_living and grade as the predictor \n",
    "y = dataset_2['price']                 #taking price as the target variable"
   ]
  },
  {
   "cell_type": "code",
   "execution_count": 36,
   "id": "ee41eaf1",
   "metadata": {},
   "outputs": [],
   "source": [
    "from sklearn.linear_model import LinearRegression"
   ]
  },
  {
   "cell_type": "code",
   "execution_count": 37,
   "id": "b6d43b50",
   "metadata": {},
   "outputs": [
    {
     "data": {
      "text/plain": [
       "LinearRegression()"
      ]
     },
     "execution_count": 37,
     "metadata": {},
     "output_type": "execute_result"
    }
   ],
   "source": [
    "LR = LinearRegression()               #fitting a linear regression model\n",
    "LR.fit(X,y)"
   ]
  },
  {
   "cell_type": "code",
   "execution_count": 38,
   "id": "d762ddee",
   "metadata": {},
   "outputs": [],
   "source": [
    "#perform 10 fold cross validation to get the cross validation scores"
   ]
  },
  {
   "cell_type": "code",
   "execution_count": 39,
   "id": "3eb05e9f",
   "metadata": {},
   "outputs": [],
   "source": [
    "from sklearn.model_selection import cross_val_score          #CV score\n",
    "scores = cross_val_score(LR,X,y,cv=10,scoring='r2')          #CV score with R squared as the metric\n",
    "cv_scores = scores.mean()"
   ]
  },
  {
   "cell_type": "code",
   "execution_count": 40,
   "id": "83e246b2",
   "metadata": {
    "scrolled": false
   },
   "outputs": [
    {
     "data": {
      "text/plain": [
       "0.53"
      ]
     },
     "execution_count": 40,
     "metadata": {},
     "output_type": "execute_result"
    }
   ],
   "source": [
    "np.round(cv_scores,2)"
   ]
  },
  {
   "cell_type": "code",
   "execution_count": 41,
   "id": "71422254",
   "metadata": {},
   "outputs": [],
   "source": [
    "from sklearn.model_selection import cross_val_score          #CV score\n",
    "scores = cross_val_score(LR,X,y,cv=10,scoring='neg_root_mean_squared_error')          #CV score with RMSE as the metric\n",
    "cv_scores = scores.mean()"
   ]
  },
  {
   "cell_type": "code",
   "execution_count": 42,
   "id": "8ea218d7",
   "metadata": {
    "scrolled": false
   },
   "outputs": [
    {
     "data": {
      "text/plain": [
       "258217.71"
      ]
     },
     "execution_count": 42,
     "metadata": {},
     "output_type": "execute_result"
    }
   ],
   "source": [
    "np.round(np.abs(cv_scores),2)"
   ]
  },
  {
   "cell_type": "markdown",
   "id": "34cd07a8",
   "metadata": {},
   "source": [
    "#### Model 3 :"
   ]
  },
  {
   "cell_type": "code",
   "execution_count": 43,
   "id": "c26dcff5",
   "metadata": {},
   "outputs": [],
   "source": [
    "X = dataset_2[['bedrooms','bathrooms','sqft_living','grade']] #taking bedrooms, bathrooms, sqft_living and grade as the predictor \n",
    "y = dataset_2['price']                 #taking price as the target variable"
   ]
  },
  {
   "cell_type": "code",
   "execution_count": 44,
   "id": "490767d1",
   "metadata": {},
   "outputs": [],
   "source": [
    "from sklearn.linear_model import LinearRegression"
   ]
  },
  {
   "cell_type": "code",
   "execution_count": 45,
   "id": "56186276",
   "metadata": {},
   "outputs": [
    {
     "data": {
      "text/plain": [
       "LinearRegression()"
      ]
     },
     "execution_count": 45,
     "metadata": {},
     "output_type": "execute_result"
    }
   ],
   "source": [
    "LR = LinearRegression()               #fitting a linear regression model\n",
    "LR.fit(X,y)"
   ]
  },
  {
   "cell_type": "code",
   "execution_count": 46,
   "id": "fd074a62",
   "metadata": {},
   "outputs": [],
   "source": [
    "#perform 10 fold cross validation to get the cross validation scores"
   ]
  },
  {
   "cell_type": "code",
   "execution_count": 47,
   "id": "c0013cf0",
   "metadata": {},
   "outputs": [],
   "source": [
    "from sklearn.model_selection import cross_val_score          #CV score\n",
    "scores = cross_val_score(LR,X,y,cv=10,scoring='r2')          #CV score with R squared as the metric\n",
    "cv_scores = scores.mean()"
   ]
  },
  {
   "cell_type": "code",
   "execution_count": 48,
   "id": "af0d1c0f",
   "metadata": {
    "scrolled": false
   },
   "outputs": [
    {
     "data": {
      "text/plain": [
       "0.54"
      ]
     },
     "execution_count": 48,
     "metadata": {},
     "output_type": "execute_result"
    }
   ],
   "source": [
    "np.round(cv_scores,2)"
   ]
  },
  {
   "cell_type": "code",
   "execution_count": 49,
   "id": "309bbc61",
   "metadata": {},
   "outputs": [],
   "source": [
    "from sklearn.model_selection import cross_val_score          #CV score\n",
    "scores = cross_val_score(LR,X,y,cv=10,scoring='neg_root_mean_squared_error')          #CV score with RMSE as the metric\n",
    "cv_scores = scores.mean()"
   ]
  },
  {
   "cell_type": "code",
   "execution_count": 50,
   "id": "010f211d",
   "metadata": {
    "scrolled": false
   },
   "outputs": [
    {
     "data": {
      "text/plain": [
       "256259.24"
      ]
     },
     "execution_count": 50,
     "metadata": {},
     "output_type": "execute_result"
    }
   ],
   "source": [
    "np.round(np.abs(cv_scores),2)"
   ]
  },
  {
   "cell_type": "markdown",
   "id": "42a56a52",
   "metadata": {},
   "source": [
    "#### Here we find that as we increase the number of predictors we get a better CV score.  \n",
    "\n"
   ]
  },
  {
   "cell_type": "markdown",
   "id": "5f77e8ae",
   "metadata": {},
   "source": [
    "#### To further improve the model we apply feature engineering techniques like scaling, log transform and data encoding."
   ]
  },
  {
   "cell_type": "markdown",
   "id": "9fc6a0d7",
   "metadata": {},
   "source": [
    "## Feature Engineering :"
   ]
  },
  {
   "cell_type": "markdown",
   "id": "28c559a6",
   "metadata": {},
   "source": [
    "#### 1. We transform the variable yr_built to the age of house in years."
   ]
  },
  {
   "cell_type": "code",
   "execution_count": 51,
   "id": "f5b9b6dc",
   "metadata": {},
   "outputs": [],
   "source": [
    "dataset_2 = pd.read_csv(\"kc_house_train_data.csv\")   #reading the data"
   ]
  },
  {
   "cell_type": "code",
   "execution_count": 52,
   "id": "76e592ce",
   "metadata": {},
   "outputs": [
    {
     "data": {
      "text/html": [
       "<div>\n",
       "<style scoped>\n",
       "    .dataframe tbody tr th:only-of-type {\n",
       "        vertical-align: middle;\n",
       "    }\n",
       "\n",
       "    .dataframe tbody tr th {\n",
       "        vertical-align: top;\n",
       "    }\n",
       "\n",
       "    .dataframe thead th {\n",
       "        text-align: right;\n",
       "    }\n",
       "</style>\n",
       "<table border=\"1\" class=\"dataframe\">\n",
       "  <thead>\n",
       "    <tr style=\"text-align: right;\">\n",
       "      <th></th>\n",
       "      <th>id</th>\n",
       "      <th>date</th>\n",
       "      <th>price</th>\n",
       "      <th>bedrooms</th>\n",
       "      <th>bathrooms</th>\n",
       "      <th>sqft_living</th>\n",
       "      <th>sqft_lot</th>\n",
       "      <th>floors</th>\n",
       "      <th>waterfront</th>\n",
       "      <th>view</th>\n",
       "      <th>condition</th>\n",
       "      <th>grade</th>\n",
       "      <th>sqft_above</th>\n",
       "      <th>sqft_basement</th>\n",
       "      <th>yr_built</th>\n",
       "      <th>yr_renovated</th>\n",
       "      <th>zipcode</th>\n",
       "      <th>lat</th>\n",
       "      <th>long</th>\n",
       "      <th>sqft_living15</th>\n",
       "      <th>sqft_lot15</th>\n",
       "    </tr>\n",
       "  </thead>\n",
       "  <tbody>\n",
       "    <tr>\n",
       "      <th>0</th>\n",
       "      <td>2487200875</td>\n",
       "      <td>20141209T000000</td>\n",
       "      <td>604000.0</td>\n",
       "      <td>4</td>\n",
       "      <td>3.00</td>\n",
       "      <td>1960</td>\n",
       "      <td>5000</td>\n",
       "      <td>1.0</td>\n",
       "      <td>0</td>\n",
       "      <td>0</td>\n",
       "      <td>5</td>\n",
       "      <td>7</td>\n",
       "      <td>1050</td>\n",
       "      <td>910</td>\n",
       "      <td>1965</td>\n",
       "      <td>0</td>\n",
       "      <td>98136</td>\n",
       "      <td>47.5208</td>\n",
       "      <td>-122.393</td>\n",
       "      <td>1360</td>\n",
       "      <td>5000</td>\n",
       "    </tr>\n",
       "    <tr>\n",
       "      <th>1</th>\n",
       "      <td>7237550310</td>\n",
       "      <td>20140512T000000</td>\n",
       "      <td>1225000.0</td>\n",
       "      <td>4</td>\n",
       "      <td>4.50</td>\n",
       "      <td>5420</td>\n",
       "      <td>101930</td>\n",
       "      <td>1.0</td>\n",
       "      <td>0</td>\n",
       "      <td>0</td>\n",
       "      <td>3</td>\n",
       "      <td>11</td>\n",
       "      <td>3890</td>\n",
       "      <td>1530</td>\n",
       "      <td>2001</td>\n",
       "      <td>0</td>\n",
       "      <td>98053</td>\n",
       "      <td>47.6561</td>\n",
       "      <td>-122.005</td>\n",
       "      <td>4760</td>\n",
       "      <td>101930</td>\n",
       "    </tr>\n",
       "    <tr>\n",
       "      <th>2</th>\n",
       "      <td>9212900260</td>\n",
       "      <td>20140527T000000</td>\n",
       "      <td>468000.0</td>\n",
       "      <td>2</td>\n",
       "      <td>1.00</td>\n",
       "      <td>1160</td>\n",
       "      <td>6000</td>\n",
       "      <td>1.0</td>\n",
       "      <td>0</td>\n",
       "      <td>0</td>\n",
       "      <td>4</td>\n",
       "      <td>7</td>\n",
       "      <td>860</td>\n",
       "      <td>300</td>\n",
       "      <td>1942</td>\n",
       "      <td>0</td>\n",
       "      <td>98115</td>\n",
       "      <td>47.6900</td>\n",
       "      <td>-122.292</td>\n",
       "      <td>1330</td>\n",
       "      <td>6000</td>\n",
       "    </tr>\n",
       "    <tr>\n",
       "      <th>3</th>\n",
       "      <td>114101516</td>\n",
       "      <td>20140528T000000</td>\n",
       "      <td>310000.0</td>\n",
       "      <td>3</td>\n",
       "      <td>1.00</td>\n",
       "      <td>1430</td>\n",
       "      <td>19901</td>\n",
       "      <td>1.5</td>\n",
       "      <td>0</td>\n",
       "      <td>0</td>\n",
       "      <td>4</td>\n",
       "      <td>7</td>\n",
       "      <td>1430</td>\n",
       "      <td>0</td>\n",
       "      <td>1927</td>\n",
       "      <td>0</td>\n",
       "      <td>98028</td>\n",
       "      <td>47.7558</td>\n",
       "      <td>-122.229</td>\n",
       "      <td>1780</td>\n",
       "      <td>12697</td>\n",
       "    </tr>\n",
       "    <tr>\n",
       "      <th>4</th>\n",
       "      <td>6054650070</td>\n",
       "      <td>20141007T000000</td>\n",
       "      <td>400000.0</td>\n",
       "      <td>3</td>\n",
       "      <td>1.75</td>\n",
       "      <td>1370</td>\n",
       "      <td>9680</td>\n",
       "      <td>1.0</td>\n",
       "      <td>0</td>\n",
       "      <td>0</td>\n",
       "      <td>4</td>\n",
       "      <td>7</td>\n",
       "      <td>1370</td>\n",
       "      <td>0</td>\n",
       "      <td>1977</td>\n",
       "      <td>0</td>\n",
       "      <td>98074</td>\n",
       "      <td>47.6127</td>\n",
       "      <td>-122.045</td>\n",
       "      <td>1370</td>\n",
       "      <td>10208</td>\n",
       "    </tr>\n",
       "  </tbody>\n",
       "</table>\n",
       "</div>"
      ],
      "text/plain": [
       "           id             date      price  bedrooms  bathrooms  sqft_living  \\\n",
       "0  2487200875  20141209T000000   604000.0         4       3.00         1960   \n",
       "1  7237550310  20140512T000000  1225000.0         4       4.50         5420   \n",
       "2  9212900260  20140527T000000   468000.0         2       1.00         1160   \n",
       "3   114101516  20140528T000000   310000.0         3       1.00         1430   \n",
       "4  6054650070  20141007T000000   400000.0         3       1.75         1370   \n",
       "\n",
       "   sqft_lot  floors  waterfront  view  condition  grade  sqft_above  \\\n",
       "0      5000     1.0           0     0          5      7        1050   \n",
       "1    101930     1.0           0     0          3     11        3890   \n",
       "2      6000     1.0           0     0          4      7         860   \n",
       "3     19901     1.5           0     0          4      7        1430   \n",
       "4      9680     1.0           0     0          4      7        1370   \n",
       "\n",
       "   sqft_basement  yr_built  yr_renovated  zipcode      lat     long  \\\n",
       "0            910      1965             0    98136  47.5208 -122.393   \n",
       "1           1530      2001             0    98053  47.6561 -122.005   \n",
       "2            300      1942             0    98115  47.6900 -122.292   \n",
       "3              0      1927             0    98028  47.7558 -122.229   \n",
       "4              0      1977             0    98074  47.6127 -122.045   \n",
       "\n",
       "   sqft_living15  sqft_lot15  \n",
       "0           1360        5000  \n",
       "1           4760      101930  \n",
       "2           1330        6000  \n",
       "3           1780       12697  \n",
       "4           1370       10208  "
      ]
     },
     "execution_count": 52,
     "metadata": {},
     "output_type": "execute_result"
    }
   ],
   "source": [
    "dataset_2.head()"
   ]
  },
  {
   "cell_type": "code",
   "execution_count": 53,
   "id": "f15df3d9",
   "metadata": {},
   "outputs": [],
   "source": [
    "dataset_2.yr_built = int(2021) - dataset_2.yr_built   #transforming by taking the difference from current year i.e 2021."
   ]
  },
  {
   "cell_type": "code",
   "execution_count": 54,
   "id": "6a3f5e23",
   "metadata": {},
   "outputs": [
    {
     "data": {
      "text/html": [
       "<div>\n",
       "<style scoped>\n",
       "    .dataframe tbody tr th:only-of-type {\n",
       "        vertical-align: middle;\n",
       "    }\n",
       "\n",
       "    .dataframe tbody tr th {\n",
       "        vertical-align: top;\n",
       "    }\n",
       "\n",
       "    .dataframe thead th {\n",
       "        text-align: right;\n",
       "    }\n",
       "</style>\n",
       "<table border=\"1\" class=\"dataframe\">\n",
       "  <thead>\n",
       "    <tr style=\"text-align: right;\">\n",
       "      <th></th>\n",
       "      <th>id</th>\n",
       "      <th>date</th>\n",
       "      <th>price</th>\n",
       "      <th>bedrooms</th>\n",
       "      <th>bathrooms</th>\n",
       "      <th>sqft_living</th>\n",
       "      <th>sqft_lot</th>\n",
       "      <th>floors</th>\n",
       "      <th>waterfront</th>\n",
       "      <th>view</th>\n",
       "      <th>condition</th>\n",
       "      <th>grade</th>\n",
       "      <th>sqft_above</th>\n",
       "      <th>sqft_basement</th>\n",
       "      <th>yr_built</th>\n",
       "      <th>yr_renovated</th>\n",
       "      <th>zipcode</th>\n",
       "      <th>lat</th>\n",
       "      <th>long</th>\n",
       "      <th>sqft_living15</th>\n",
       "      <th>sqft_lot15</th>\n",
       "    </tr>\n",
       "  </thead>\n",
       "  <tbody>\n",
       "    <tr>\n",
       "      <th>0</th>\n",
       "      <td>2487200875</td>\n",
       "      <td>20141209T000000</td>\n",
       "      <td>604000.0</td>\n",
       "      <td>4</td>\n",
       "      <td>3.00</td>\n",
       "      <td>1960</td>\n",
       "      <td>5000</td>\n",
       "      <td>1.0</td>\n",
       "      <td>0</td>\n",
       "      <td>0</td>\n",
       "      <td>5</td>\n",
       "      <td>7</td>\n",
       "      <td>1050</td>\n",
       "      <td>910</td>\n",
       "      <td>56</td>\n",
       "      <td>0</td>\n",
       "      <td>98136</td>\n",
       "      <td>47.5208</td>\n",
       "      <td>-122.393</td>\n",
       "      <td>1360</td>\n",
       "      <td>5000</td>\n",
       "    </tr>\n",
       "    <tr>\n",
       "      <th>1</th>\n",
       "      <td>7237550310</td>\n",
       "      <td>20140512T000000</td>\n",
       "      <td>1225000.0</td>\n",
       "      <td>4</td>\n",
       "      <td>4.50</td>\n",
       "      <td>5420</td>\n",
       "      <td>101930</td>\n",
       "      <td>1.0</td>\n",
       "      <td>0</td>\n",
       "      <td>0</td>\n",
       "      <td>3</td>\n",
       "      <td>11</td>\n",
       "      <td>3890</td>\n",
       "      <td>1530</td>\n",
       "      <td>20</td>\n",
       "      <td>0</td>\n",
       "      <td>98053</td>\n",
       "      <td>47.6561</td>\n",
       "      <td>-122.005</td>\n",
       "      <td>4760</td>\n",
       "      <td>101930</td>\n",
       "    </tr>\n",
       "    <tr>\n",
       "      <th>2</th>\n",
       "      <td>9212900260</td>\n",
       "      <td>20140527T000000</td>\n",
       "      <td>468000.0</td>\n",
       "      <td>2</td>\n",
       "      <td>1.00</td>\n",
       "      <td>1160</td>\n",
       "      <td>6000</td>\n",
       "      <td>1.0</td>\n",
       "      <td>0</td>\n",
       "      <td>0</td>\n",
       "      <td>4</td>\n",
       "      <td>7</td>\n",
       "      <td>860</td>\n",
       "      <td>300</td>\n",
       "      <td>79</td>\n",
       "      <td>0</td>\n",
       "      <td>98115</td>\n",
       "      <td>47.6900</td>\n",
       "      <td>-122.292</td>\n",
       "      <td>1330</td>\n",
       "      <td>6000</td>\n",
       "    </tr>\n",
       "    <tr>\n",
       "      <th>3</th>\n",
       "      <td>114101516</td>\n",
       "      <td>20140528T000000</td>\n",
       "      <td>310000.0</td>\n",
       "      <td>3</td>\n",
       "      <td>1.00</td>\n",
       "      <td>1430</td>\n",
       "      <td>19901</td>\n",
       "      <td>1.5</td>\n",
       "      <td>0</td>\n",
       "      <td>0</td>\n",
       "      <td>4</td>\n",
       "      <td>7</td>\n",
       "      <td>1430</td>\n",
       "      <td>0</td>\n",
       "      <td>94</td>\n",
       "      <td>0</td>\n",
       "      <td>98028</td>\n",
       "      <td>47.7558</td>\n",
       "      <td>-122.229</td>\n",
       "      <td>1780</td>\n",
       "      <td>12697</td>\n",
       "    </tr>\n",
       "    <tr>\n",
       "      <th>4</th>\n",
       "      <td>6054650070</td>\n",
       "      <td>20141007T000000</td>\n",
       "      <td>400000.0</td>\n",
       "      <td>3</td>\n",
       "      <td>1.75</td>\n",
       "      <td>1370</td>\n",
       "      <td>9680</td>\n",
       "      <td>1.0</td>\n",
       "      <td>0</td>\n",
       "      <td>0</td>\n",
       "      <td>4</td>\n",
       "      <td>7</td>\n",
       "      <td>1370</td>\n",
       "      <td>0</td>\n",
       "      <td>44</td>\n",
       "      <td>0</td>\n",
       "      <td>98074</td>\n",
       "      <td>47.6127</td>\n",
       "      <td>-122.045</td>\n",
       "      <td>1370</td>\n",
       "      <td>10208</td>\n",
       "    </tr>\n",
       "  </tbody>\n",
       "</table>\n",
       "</div>"
      ],
      "text/plain": [
       "           id             date      price  bedrooms  bathrooms  sqft_living  \\\n",
       "0  2487200875  20141209T000000   604000.0         4       3.00         1960   \n",
       "1  7237550310  20140512T000000  1225000.0         4       4.50         5420   \n",
       "2  9212900260  20140527T000000   468000.0         2       1.00         1160   \n",
       "3   114101516  20140528T000000   310000.0         3       1.00         1430   \n",
       "4  6054650070  20141007T000000   400000.0         3       1.75         1370   \n",
       "\n",
       "   sqft_lot  floors  waterfront  view  condition  grade  sqft_above  \\\n",
       "0      5000     1.0           0     0          5      7        1050   \n",
       "1    101930     1.0           0     0          3     11        3890   \n",
       "2      6000     1.0           0     0          4      7         860   \n",
       "3     19901     1.5           0     0          4      7        1430   \n",
       "4      9680     1.0           0     0          4      7        1370   \n",
       "\n",
       "   sqft_basement  yr_built  yr_renovated  zipcode      lat     long  \\\n",
       "0            910        56             0    98136  47.5208 -122.393   \n",
       "1           1530        20             0    98053  47.6561 -122.005   \n",
       "2            300        79             0    98115  47.6900 -122.292   \n",
       "3              0        94             0    98028  47.7558 -122.229   \n",
       "4              0        44             0    98074  47.6127 -122.045   \n",
       "\n",
       "   sqft_living15  sqft_lot15  \n",
       "0           1360        5000  \n",
       "1           4760      101930  \n",
       "2           1330        6000  \n",
       "3           1780       12697  \n",
       "4           1370       10208  "
      ]
     },
     "execution_count": 54,
     "metadata": {},
     "output_type": "execute_result"
    }
   ],
   "source": [
    "dataset_2.head()"
   ]
  },
  {
   "cell_type": "markdown",
   "id": "6960c634",
   "metadata": {},
   "source": [
    "#### 2. We have seen that the numerical variables were skewed. Let us handle them taking the log transform of these variables."
   ]
  },
  {
   "cell_type": "code",
   "execution_count": 55,
   "id": "a89ba0ce",
   "metadata": {},
   "outputs": [
    {
     "data": {
      "text/html": [
       "<div>\n",
       "<style scoped>\n",
       "    .dataframe tbody tr th:only-of-type {\n",
       "        vertical-align: middle;\n",
       "    }\n",
       "\n",
       "    .dataframe tbody tr th {\n",
       "        vertical-align: top;\n",
       "    }\n",
       "\n",
       "    .dataframe thead th {\n",
       "        text-align: right;\n",
       "    }\n",
       "</style>\n",
       "<table border=\"1\" class=\"dataframe\">\n",
       "  <thead>\n",
       "    <tr style=\"text-align: right;\">\n",
       "      <th></th>\n",
       "      <th>id</th>\n",
       "      <th>date</th>\n",
       "      <th>price</th>\n",
       "      <th>bedrooms</th>\n",
       "      <th>bathrooms</th>\n",
       "      <th>sqft_living</th>\n",
       "      <th>sqft_lot</th>\n",
       "      <th>floors</th>\n",
       "      <th>waterfront</th>\n",
       "      <th>view</th>\n",
       "      <th>condition</th>\n",
       "      <th>grade</th>\n",
       "      <th>sqft_above</th>\n",
       "      <th>sqft_basement</th>\n",
       "      <th>yr_built</th>\n",
       "      <th>yr_renovated</th>\n",
       "      <th>zipcode</th>\n",
       "      <th>lat</th>\n",
       "      <th>long</th>\n",
       "      <th>sqft_living15</th>\n",
       "      <th>sqft_lot15</th>\n",
       "    </tr>\n",
       "  </thead>\n",
       "  <tbody>\n",
       "    <tr>\n",
       "      <th>0</th>\n",
       "      <td>2487200875</td>\n",
       "      <td>20141209T000000</td>\n",
       "      <td>604000.0</td>\n",
       "      <td>4</td>\n",
       "      <td>3.00</td>\n",
       "      <td>1960</td>\n",
       "      <td>5000</td>\n",
       "      <td>1.0</td>\n",
       "      <td>0</td>\n",
       "      <td>0</td>\n",
       "      <td>5</td>\n",
       "      <td>7</td>\n",
       "      <td>1050</td>\n",
       "      <td>910</td>\n",
       "      <td>56</td>\n",
       "      <td>0</td>\n",
       "      <td>98136</td>\n",
       "      <td>47.5208</td>\n",
       "      <td>-122.393</td>\n",
       "      <td>1360</td>\n",
       "      <td>5000</td>\n",
       "    </tr>\n",
       "    <tr>\n",
       "      <th>1</th>\n",
       "      <td>7237550310</td>\n",
       "      <td>20140512T000000</td>\n",
       "      <td>1225000.0</td>\n",
       "      <td>4</td>\n",
       "      <td>4.50</td>\n",
       "      <td>5420</td>\n",
       "      <td>101930</td>\n",
       "      <td>1.0</td>\n",
       "      <td>0</td>\n",
       "      <td>0</td>\n",
       "      <td>3</td>\n",
       "      <td>11</td>\n",
       "      <td>3890</td>\n",
       "      <td>1530</td>\n",
       "      <td>20</td>\n",
       "      <td>0</td>\n",
       "      <td>98053</td>\n",
       "      <td>47.6561</td>\n",
       "      <td>-122.005</td>\n",
       "      <td>4760</td>\n",
       "      <td>101930</td>\n",
       "    </tr>\n",
       "    <tr>\n",
       "      <th>2</th>\n",
       "      <td>9212900260</td>\n",
       "      <td>20140527T000000</td>\n",
       "      <td>468000.0</td>\n",
       "      <td>2</td>\n",
       "      <td>1.00</td>\n",
       "      <td>1160</td>\n",
       "      <td>6000</td>\n",
       "      <td>1.0</td>\n",
       "      <td>0</td>\n",
       "      <td>0</td>\n",
       "      <td>4</td>\n",
       "      <td>7</td>\n",
       "      <td>860</td>\n",
       "      <td>300</td>\n",
       "      <td>79</td>\n",
       "      <td>0</td>\n",
       "      <td>98115</td>\n",
       "      <td>47.6900</td>\n",
       "      <td>-122.292</td>\n",
       "      <td>1330</td>\n",
       "      <td>6000</td>\n",
       "    </tr>\n",
       "    <tr>\n",
       "      <th>3</th>\n",
       "      <td>114101516</td>\n",
       "      <td>20140528T000000</td>\n",
       "      <td>310000.0</td>\n",
       "      <td>3</td>\n",
       "      <td>1.00</td>\n",
       "      <td>1430</td>\n",
       "      <td>19901</td>\n",
       "      <td>1.5</td>\n",
       "      <td>0</td>\n",
       "      <td>0</td>\n",
       "      <td>4</td>\n",
       "      <td>7</td>\n",
       "      <td>1430</td>\n",
       "      <td>0</td>\n",
       "      <td>94</td>\n",
       "      <td>0</td>\n",
       "      <td>98028</td>\n",
       "      <td>47.7558</td>\n",
       "      <td>-122.229</td>\n",
       "      <td>1780</td>\n",
       "      <td>12697</td>\n",
       "    </tr>\n",
       "    <tr>\n",
       "      <th>4</th>\n",
       "      <td>6054650070</td>\n",
       "      <td>20141007T000000</td>\n",
       "      <td>400000.0</td>\n",
       "      <td>3</td>\n",
       "      <td>1.75</td>\n",
       "      <td>1370</td>\n",
       "      <td>9680</td>\n",
       "      <td>1.0</td>\n",
       "      <td>0</td>\n",
       "      <td>0</td>\n",
       "      <td>4</td>\n",
       "      <td>7</td>\n",
       "      <td>1370</td>\n",
       "      <td>0</td>\n",
       "      <td>44</td>\n",
       "      <td>0</td>\n",
       "      <td>98074</td>\n",
       "      <td>47.6127</td>\n",
       "      <td>-122.045</td>\n",
       "      <td>1370</td>\n",
       "      <td>10208</td>\n",
       "    </tr>\n",
       "  </tbody>\n",
       "</table>\n",
       "</div>"
      ],
      "text/plain": [
       "           id             date      price  bedrooms  bathrooms  sqft_living  \\\n",
       "0  2487200875  20141209T000000   604000.0         4       3.00         1960   \n",
       "1  7237550310  20140512T000000  1225000.0         4       4.50         5420   \n",
       "2  9212900260  20140527T000000   468000.0         2       1.00         1160   \n",
       "3   114101516  20140528T000000   310000.0         3       1.00         1430   \n",
       "4  6054650070  20141007T000000   400000.0         3       1.75         1370   \n",
       "\n",
       "   sqft_lot  floors  waterfront  view  condition  grade  sqft_above  \\\n",
       "0      5000     1.0           0     0          5      7        1050   \n",
       "1    101930     1.0           0     0          3     11        3890   \n",
       "2      6000     1.0           0     0          4      7         860   \n",
       "3     19901     1.5           0     0          4      7        1430   \n",
       "4      9680     1.0           0     0          4      7        1370   \n",
       "\n",
       "   sqft_basement  yr_built  yr_renovated  zipcode      lat     long  \\\n",
       "0            910        56             0    98136  47.5208 -122.393   \n",
       "1           1530        20             0    98053  47.6561 -122.005   \n",
       "2            300        79             0    98115  47.6900 -122.292   \n",
       "3              0        94             0    98028  47.7558 -122.229   \n",
       "4              0        44             0    98074  47.6127 -122.045   \n",
       "\n",
       "   sqft_living15  sqft_lot15  \n",
       "0           1360        5000  \n",
       "1           4760      101930  \n",
       "2           1330        6000  \n",
       "3           1780       12697  \n",
       "4           1370       10208  "
      ]
     },
     "execution_count": 55,
     "metadata": {},
     "output_type": "execute_result"
    }
   ],
   "source": [
    "dataset_2.head()"
   ]
  },
  {
   "cell_type": "markdown",
   "id": "2363aeaf",
   "metadata": {},
   "source": [
    "##### Here we should only take log transform of non-negative and non-zero columns. If we take log of negative and zero columns we might get NaN values."
   ]
  },
  {
   "cell_type": "code",
   "execution_count": 56,
   "id": "b6f0e3e9",
   "metadata": {},
   "outputs": [
    {
     "data": {
      "image/png": "[encoded data removed]",
      "text/plain": [
       "<Figure size 432x288 with 1 Axes>"
      ]
     },
     "metadata": {
      "needs_background": "light"
     },
     "output_type": "display_data"
    },
    {
     "data": {
      "image/png": "[encoded data removed]",
      "text/plain": [
       "<Figure size 432x288 with 1 Axes>"
      ]
     },
     "metadata": {
      "needs_background": "light"
     },
     "output_type": "display_data"
    },
    {
     "data": {
      "image/png": "[encoded data removed]",
      "text/plain": [
       "<Figure size 432x288 with 1 Axes>"
      ]
     },
     "metadata": {
      "needs_background": "light"
     },
     "output_type": "display_data"
    },
    {
     "data": {
      "image/png": "[encoded data removed]",
      "text/plain": [
       "<Figure size 432x288 with 1 Axes>"
      ]
     },
     "metadata": {
      "needs_background": "light"
     },
     "output_type": "display_data"
    }
   ],
   "source": [
    "# Converting skewed distribution into log normal distribution\n",
    "num_feature = ['price','sqft_living','sqft_above','sqft_living15']    #creating a list of all the skewed features\n",
    "\n",
    "for feature in num_feature:\n",
    "    dataset_2[feature] = np.log(dataset_2[feature])      #taking log of all the variables that were skewed.\n",
    "    dataset_2[feature].hist(bins=25)               #plotting histogram for each continous variable in the feature list\n",
    "    plt.xlabel(feature)                            #displaying the x and the y labels\n",
    "    plt.ylabel(\"Frequency\")\n",
    "    plt.show()"
   ]
  },
  {
   "cell_type": "markdown",
   "id": "91182e53",
   "metadata": {},
   "source": [
    "### From the above plotted graphs we have eliminated the skewness and have Log normal distribution."
   ]
  },
  {
   "cell_type": "code",
   "execution_count": 57,
   "id": "67c39dcf",
   "metadata": {},
   "outputs": [
    {
     "data": {
      "text/html": [
       "<div>\n",
       "<style scoped>\n",
       "    .dataframe tbody tr th:only-of-type {\n",
       "        vertical-align: middle;\n",
       "    }\n",
       "\n",
       "    .dataframe tbody tr th {\n",
       "        vertical-align: top;\n",
       "    }\n",
       "\n",
       "    .dataframe thead th {\n",
       "        text-align: right;\n",
       "    }\n",
       "</style>\n",
       "<table border=\"1\" class=\"dataframe\">\n",
       "  <thead>\n",
       "    <tr style=\"text-align: right;\">\n",
       "      <th></th>\n",
       "      <th>id</th>\n",
       "      <th>date</th>\n",
       "      <th>price</th>\n",
       "      <th>bedrooms</th>\n",
       "      <th>bathrooms</th>\n",
       "      <th>sqft_living</th>\n",
       "      <th>sqft_lot</th>\n",
       "      <th>floors</th>\n",
       "      <th>waterfront</th>\n",
       "      <th>view</th>\n",
       "      <th>condition</th>\n",
       "      <th>grade</th>\n",
       "      <th>sqft_above</th>\n",
       "      <th>sqft_basement</th>\n",
       "      <th>yr_built</th>\n",
       "      <th>yr_renovated</th>\n",
       "      <th>zipcode</th>\n",
       "      <th>lat</th>\n",
       "      <th>long</th>\n",
       "      <th>sqft_living15</th>\n",
       "      <th>sqft_lot15</th>\n",
       "    </tr>\n",
       "  </thead>\n",
       "  <tbody>\n",
       "    <tr>\n",
       "      <th>0</th>\n",
       "      <td>2487200875</td>\n",
       "      <td>20141209T000000</td>\n",
       "      <td>13.311329</td>\n",
       "      <td>4</td>\n",
       "      <td>3.00</td>\n",
       "      <td>7.580700</td>\n",
       "      <td>5000</td>\n",
       "      <td>1.0</td>\n",
       "      <td>0</td>\n",
       "      <td>0</td>\n",
       "      <td>5</td>\n",
       "      <td>7</td>\n",
       "      <td>6.956545</td>\n",
       "      <td>910</td>\n",
       "      <td>56</td>\n",
       "      <td>0</td>\n",
       "      <td>98136</td>\n",
       "      <td>47.5208</td>\n",
       "      <td>-122.393</td>\n",
       "      <td>7.215240</td>\n",
       "      <td>5000</td>\n",
       "    </tr>\n",
       "    <tr>\n",
       "      <th>1</th>\n",
       "      <td>7237550310</td>\n",
       "      <td>20140512T000000</td>\n",
       "      <td>14.018451</td>\n",
       "      <td>4</td>\n",
       "      <td>4.50</td>\n",
       "      <td>8.597851</td>\n",
       "      <td>101930</td>\n",
       "      <td>1.0</td>\n",
       "      <td>0</td>\n",
       "      <td>0</td>\n",
       "      <td>3</td>\n",
       "      <td>11</td>\n",
       "      <td>8.266164</td>\n",
       "      <td>1530</td>\n",
       "      <td>20</td>\n",
       "      <td>0</td>\n",
       "      <td>98053</td>\n",
       "      <td>47.6561</td>\n",
       "      <td>-122.005</td>\n",
       "      <td>8.468003</td>\n",
       "      <td>101930</td>\n",
       "    </tr>\n",
       "    <tr>\n",
       "      <th>2</th>\n",
       "      <td>9212900260</td>\n",
       "      <td>20140527T000000</td>\n",
       "      <td>13.056224</td>\n",
       "      <td>2</td>\n",
       "      <td>1.00</td>\n",
       "      <td>7.056175</td>\n",
       "      <td>6000</td>\n",
       "      <td>1.0</td>\n",
       "      <td>0</td>\n",
       "      <td>0</td>\n",
       "      <td>4</td>\n",
       "      <td>7</td>\n",
       "      <td>6.756932</td>\n",
       "      <td>300</td>\n",
       "      <td>79</td>\n",
       "      <td>0</td>\n",
       "      <td>98115</td>\n",
       "      <td>47.6900</td>\n",
       "      <td>-122.292</td>\n",
       "      <td>7.192934</td>\n",
       "      <td>6000</td>\n",
       "    </tr>\n",
       "    <tr>\n",
       "      <th>3</th>\n",
       "      <td>114101516</td>\n",
       "      <td>20140528T000000</td>\n",
       "      <td>12.644328</td>\n",
       "      <td>3</td>\n",
       "      <td>1.00</td>\n",
       "      <td>7.265430</td>\n",
       "      <td>19901</td>\n",
       "      <td>1.5</td>\n",
       "      <td>0</td>\n",
       "      <td>0</td>\n",
       "      <td>4</td>\n",
       "      <td>7</td>\n",
       "      <td>7.265430</td>\n",
       "      <td>0</td>\n",
       "      <td>94</td>\n",
       "      <td>0</td>\n",
       "      <td>98028</td>\n",
       "      <td>47.7558</td>\n",
       "      <td>-122.229</td>\n",
       "      <td>7.484369</td>\n",
       "      <td>12697</td>\n",
       "    </tr>\n",
       "    <tr>\n",
       "      <th>4</th>\n",
       "      <td>6054650070</td>\n",
       "      <td>20141007T000000</td>\n",
       "      <td>12.899220</td>\n",
       "      <td>3</td>\n",
       "      <td>1.75</td>\n",
       "      <td>7.222566</td>\n",
       "      <td>9680</td>\n",
       "      <td>1.0</td>\n",
       "      <td>0</td>\n",
       "      <td>0</td>\n",
       "      <td>4</td>\n",
       "      <td>7</td>\n",
       "      <td>7.222566</td>\n",
       "      <td>0</td>\n",
       "      <td>44</td>\n",
       "      <td>0</td>\n",
       "      <td>98074</td>\n",
       "      <td>47.6127</td>\n",
       "      <td>-122.045</td>\n",
       "      <td>7.222566</td>\n",
       "      <td>10208</td>\n",
       "    </tr>\n",
       "  </tbody>\n",
       "</table>\n",
       "</div>"
      ],
      "text/plain": [
       "           id             date      price  bedrooms  bathrooms  sqft_living  \\\n",
       "0  2487200875  20141209T000000  13.311329         4       3.00     7.580700   \n",
       "1  7237550310  20140512T000000  14.018451         4       4.50     8.597851   \n",
       "2  9212900260  20140527T000000  13.056224         2       1.00     7.056175   \n",
       "3   114101516  20140528T000000  12.644328         3       1.00     7.265430   \n",
       "4  6054650070  20141007T000000  12.899220         3       1.75     7.222566   \n",
       "\n",
       "   sqft_lot  floors  waterfront  view  condition  grade  sqft_above  \\\n",
       "0      5000     1.0           0     0          5      7    6.956545   \n",
       "1    101930     1.0           0     0          3     11    8.266164   \n",
       "2      6000     1.0           0     0          4      7    6.756932   \n",
       "3     19901     1.5           0     0          4      7    7.265430   \n",
       "4      9680     1.0           0     0          4      7    7.222566   \n",
       "\n",
       "   sqft_basement  yr_built  yr_renovated  zipcode      lat     long  \\\n",
       "0            910        56             0    98136  47.5208 -122.393   \n",
       "1           1530        20             0    98053  47.6561 -122.005   \n",
       "2            300        79             0    98115  47.6900 -122.292   \n",
       "3              0        94             0    98028  47.7558 -122.229   \n",
       "4              0        44             0    98074  47.6127 -122.045   \n",
       "\n",
       "   sqft_living15  sqft_lot15  \n",
       "0       7.215240        5000  \n",
       "1       8.468003      101930  \n",
       "2       7.192934        6000  \n",
       "3       7.484369       12697  \n",
       "4       7.222566       10208  "
      ]
     },
     "execution_count": 57,
     "metadata": {},
     "output_type": "execute_result"
    }
   ],
   "source": [
    "dataset_2.head()"
   ]
  },
  {
   "cell_type": "markdown",
   "id": "37e2238b",
   "metadata": {},
   "source": [
    "## Feature Scaling :\n",
    "\n",
    "####  3. In this particular dataset we have many features which have different units. Hence it is necessary we do feature scaling to                   apply a particular machine learning algorithm.\n",
    "\n",
    "MinMaxScaler scales all the values between 0 and 1."
   ]
  },
  {
   "cell_type": "code",
   "execution_count": 58,
   "id": "cc700936",
   "metadata": {},
   "outputs": [
    {
     "data": {
      "text/plain": [
       "MinMaxScaler()"
      ]
     },
     "execution_count": 58,
     "metadata": {},
     "output_type": "execute_result"
    }
   ],
   "source": [
    "feature_scaler = [feature for feature in dataset_2.columns if feature not in ['id','price','date']]   \n",
    "#scaling all the features except id,date and price as they are irrelevant here\n",
    "\n",
    "from sklearn.preprocessing import MinMaxScaler         #importing minmax scaler\n",
    "scaler  = MinMaxScaler()\n",
    "scaler.fit(dataset_2[feature_scaler])                 #fitting scaled values to our dataset"
   ]
  },
  {
   "cell_type": "code",
   "execution_count": 59,
   "id": "ced40be0",
   "metadata": {},
   "outputs": [],
   "source": [
    "data = pd.concat([dataset_2[['id','price','date']].reset_index(drop=True),\n",
    "                 pd.DataFrame(scaler.transform(dataset_2[feature_scaler]),columns=feature_scaler)],axis=1)\n",
    "\n",
    "#concatinating id,price and date to our scaled dataset"
   ]
  },
  {
   "cell_type": "code",
   "execution_count": 60,
   "id": "12cfad19",
   "metadata": {},
   "outputs": [
    {
     "data": {
      "text/html": [
       "<div>\n",
       "<style scoped>\n",
       "    .dataframe tbody tr th:only-of-type {\n",
       "        vertical-align: middle;\n",
       "    }\n",
       "\n",
       "    .dataframe tbody tr th {\n",
       "        vertical-align: top;\n",
       "    }\n",
       "\n",
       "    .dataframe thead th {\n",
       "        text-align: right;\n",
       "    }\n",
       "</style>\n",
       "<table border=\"1\" class=\"dataframe\">\n",
       "  <thead>\n",
       "    <tr style=\"text-align: right;\">\n",
       "      <th></th>\n",
       "      <th>id</th>\n",
       "      <th>price</th>\n",
       "      <th>date</th>\n",
       "      <th>bedrooms</th>\n",
       "      <th>bathrooms</th>\n",
       "      <th>sqft_living</th>\n",
       "      <th>sqft_lot</th>\n",
       "      <th>floors</th>\n",
       "      <th>waterfront</th>\n",
       "      <th>view</th>\n",
       "      <th>condition</th>\n",
       "      <th>grade</th>\n",
       "      <th>sqft_above</th>\n",
       "      <th>sqft_basement</th>\n",
       "      <th>yr_built</th>\n",
       "      <th>yr_renovated</th>\n",
       "      <th>zipcode</th>\n",
       "      <th>lat</th>\n",
       "      <th>long</th>\n",
       "      <th>sqft_living15</th>\n",
       "      <th>sqft_lot15</th>\n",
       "    </tr>\n",
       "  </thead>\n",
       "  <tbody>\n",
       "    <tr>\n",
       "      <th>0</th>\n",
       "      <td>2487200875</td>\n",
       "      <td>13.311329</td>\n",
       "      <td>20141209T000000</td>\n",
       "      <td>0.121212</td>\n",
       "      <td>0.37500</td>\n",
       "      <td>0.512705</td>\n",
       "      <td>0.002714</td>\n",
       "      <td>0.0</td>\n",
       "      <td>0.0</td>\n",
       "      <td>0.0</td>\n",
       "      <td>1.00</td>\n",
       "      <td>0.500000</td>\n",
       "      <td>0.376281</td>\n",
       "      <td>0.261494</td>\n",
       "      <td>0.434783</td>\n",
       "      <td>0.0</td>\n",
       "      <td>0.681818</td>\n",
       "      <td>0.586939</td>\n",
       "      <td>0.101255</td>\n",
       "      <td>0.351594</td>\n",
       "      <td>0.007751</td>\n",
       "    </tr>\n",
       "    <tr>\n",
       "      <th>1</th>\n",
       "      <td>7237550310</td>\n",
       "      <td>14.018451</td>\n",
       "      <td>20140512T000000</td>\n",
       "      <td>0.121212</td>\n",
       "      <td>0.56250</td>\n",
       "      <td>0.785623</td>\n",
       "      <td>0.061429</td>\n",
       "      <td>0.0</td>\n",
       "      <td>0.0</td>\n",
       "      <td>0.0</td>\n",
       "      <td>0.50</td>\n",
       "      <td>0.833333</td>\n",
       "      <td>0.759276</td>\n",
       "      <td>0.439655</td>\n",
       "      <td>0.121739</td>\n",
       "      <td>0.0</td>\n",
       "      <td>0.262626</td>\n",
       "      <td>0.804568</td>\n",
       "      <td>0.425941</td>\n",
       "      <td>0.912323</td>\n",
       "      <td>0.180853</td>\n",
       "    </tr>\n",
       "    <tr>\n",
       "      <th>2</th>\n",
       "      <td>9212900260</td>\n",
       "      <td>13.056224</td>\n",
       "      <td>20140527T000000</td>\n",
       "      <td>0.060606</td>\n",
       "      <td>0.12500</td>\n",
       "      <td>0.371966</td>\n",
       "      <td>0.003320</td>\n",
       "      <td>0.0</td>\n",
       "      <td>0.0</td>\n",
       "      <td>0.0</td>\n",
       "      <td>0.75</td>\n",
       "      <td>0.500000</td>\n",
       "      <td>0.317905</td>\n",
       "      <td>0.086207</td>\n",
       "      <td>0.634783</td>\n",
       "      <td>0.0</td>\n",
       "      <td>0.575758</td>\n",
       "      <td>0.859096</td>\n",
       "      <td>0.185774</td>\n",
       "      <td>0.341610</td>\n",
       "      <td>0.009536</td>\n",
       "    </tr>\n",
       "    <tr>\n",
       "      <th>3</th>\n",
       "      <td>114101516</td>\n",
       "      <td>12.644328</td>\n",
       "      <td>20140528T000000</td>\n",
       "      <td>0.090909</td>\n",
       "      <td>0.12500</td>\n",
       "      <td>0.428112</td>\n",
       "      <td>0.011740</td>\n",
       "      <td>0.2</td>\n",
       "      <td>0.0</td>\n",
       "      <td>0.0</td>\n",
       "      <td>0.75</td>\n",
       "      <td>0.500000</td>\n",
       "      <td>0.466614</td>\n",
       "      <td>0.000000</td>\n",
       "      <td>0.765217</td>\n",
       "      <td>0.0</td>\n",
       "      <td>0.136364</td>\n",
       "      <td>0.964935</td>\n",
       "      <td>0.238494</td>\n",
       "      <td>0.472055</td>\n",
       "      <td>0.021496</td>\n",
       "    </tr>\n",
       "    <tr>\n",
       "      <th>4</th>\n",
       "      <td>6054650070</td>\n",
       "      <td>12.899220</td>\n",
       "      <td>20141007T000000</td>\n",
       "      <td>0.090909</td>\n",
       "      <td>0.21875</td>\n",
       "      <td>0.416611</td>\n",
       "      <td>0.005549</td>\n",
       "      <td>0.0</td>\n",
       "      <td>0.0</td>\n",
       "      <td>0.0</td>\n",
       "      <td>0.75</td>\n",
       "      <td>0.500000</td>\n",
       "      <td>0.454078</td>\n",
       "      <td>0.000000</td>\n",
       "      <td>0.330435</td>\n",
       "      <td>0.0</td>\n",
       "      <td>0.368687</td>\n",
       "      <td>0.734760</td>\n",
       "      <td>0.392469</td>\n",
       "      <td>0.354873</td>\n",
       "      <td>0.017051</td>\n",
       "    </tr>\n",
       "  </tbody>\n",
       "</table>\n",
       "</div>"
      ],
      "text/plain": [
       "           id      price             date  bedrooms  bathrooms  sqft_living  \\\n",
       "0  2487200875  13.311329  20141209T000000  0.121212    0.37500     0.512705   \n",
       "1  7237550310  14.018451  20140512T000000  0.121212    0.56250     0.785623   \n",
       "2  9212900260  13.056224  20140527T000000  0.060606    0.12500     0.371966   \n",
       "3   114101516  12.644328  20140528T000000  0.090909    0.12500     0.428112   \n",
       "4  6054650070  12.899220  20141007T000000  0.090909    0.21875     0.416611   \n",
       "\n",
       "   sqft_lot  floors  waterfront  view  condition     grade  sqft_above  \\\n",
       "0  0.002714     0.0         0.0   0.0       1.00  0.500000    0.376281   \n",
       "1  0.061429     0.0         0.0   0.0       0.50  0.833333    0.759276   \n",
       "2  0.003320     0.0         0.0   0.0       0.75  0.500000    0.317905   \n",
       "3  0.011740     0.2         0.0   0.0       0.75  0.500000    0.466614   \n",
       "4  0.005549     0.0         0.0   0.0       0.75  0.500000    0.454078   \n",
       "\n",
       "   sqft_basement  yr_built  yr_renovated   zipcode       lat      long  \\\n",
       "0       0.261494  0.434783           0.0  0.681818  0.586939  0.101255   \n",
       "1       0.439655  0.121739           0.0  0.262626  0.804568  0.425941   \n",
       "2       0.086207  0.634783           0.0  0.575758  0.859096  0.185774   \n",
       "3       0.000000  0.765217           0.0  0.136364  0.964935  0.238494   \n",
       "4       0.000000  0.330435           0.0  0.368687  0.734760  0.392469   \n",
       "\n",
       "   sqft_living15  sqft_lot15  \n",
       "0       0.351594    0.007751  \n",
       "1       0.912323    0.180853  \n",
       "2       0.341610    0.009536  \n",
       "3       0.472055    0.021496  \n",
       "4       0.354873    0.017051  "
      ]
     },
     "execution_count": 60,
     "metadata": {},
     "output_type": "execute_result"
    }
   ],
   "source": [
    "data.head()"
   ]
  },
  {
   "cell_type": "markdown",
   "id": "e4427805",
   "metadata": {},
   "source": [
    "## Feature engineering and Scaling on test data:"
   ]
  },
  {
   "cell_type": "code",
   "execution_count": 61,
   "id": "4681006c",
   "metadata": {},
   "outputs": [],
   "source": [
    "dataset_test = pd.read_csv(\"kc_house_test_data.csv\")             #reading the test data"
   ]
  },
  {
   "cell_type": "code",
   "execution_count": 62,
   "id": "241f0570",
   "metadata": {},
   "outputs": [],
   "source": [
    "dataset_test.yr_built = int(2021) - dataset_test.yr_built #transforming by taking the difference from current year i.e 2021."
   ]
  },
  {
   "cell_type": "code",
   "execution_count": 63,
   "id": "61034fa6",
   "metadata": {},
   "outputs": [
    {
     "data": {
      "text/html": [
       "<div>\n",
       "<style scoped>\n",
       "    .dataframe tbody tr th:only-of-type {\n",
       "        vertical-align: middle;\n",
       "    }\n",
       "\n",
       "    .dataframe tbody tr th {\n",
       "        vertical-align: top;\n",
       "    }\n",
       "\n",
       "    .dataframe thead th {\n",
       "        text-align: right;\n",
       "    }\n",
       "</style>\n",
       "<table border=\"1\" class=\"dataframe\">\n",
       "  <thead>\n",
       "    <tr style=\"text-align: right;\">\n",
       "      <th></th>\n",
       "      <th>id</th>\n",
       "      <th>date</th>\n",
       "      <th>price</th>\n",
       "      <th>bedrooms</th>\n",
       "      <th>bathrooms</th>\n",
       "      <th>sqft_living</th>\n",
       "      <th>sqft_lot</th>\n",
       "      <th>floors</th>\n",
       "      <th>waterfront</th>\n",
       "      <th>view</th>\n",
       "      <th>condition</th>\n",
       "      <th>grade</th>\n",
       "      <th>sqft_above</th>\n",
       "      <th>sqft_basement</th>\n",
       "      <th>yr_built</th>\n",
       "      <th>yr_renovated</th>\n",
       "      <th>zipcode</th>\n",
       "      <th>lat</th>\n",
       "      <th>long</th>\n",
       "      <th>sqft_living15</th>\n",
       "      <th>sqft_lot15</th>\n",
       "    </tr>\n",
       "  </thead>\n",
       "  <tbody>\n",
       "    <tr>\n",
       "      <th>0</th>\n",
       "      <td>3793500160</td>\n",
       "      <td>20150312T000000</td>\n",
       "      <td>323000.0</td>\n",
       "      <td>3</td>\n",
       "      <td>2.50</td>\n",
       "      <td>1890</td>\n",
       "      <td>6560</td>\n",
       "      <td>2.0</td>\n",
       "      <td>0</td>\n",
       "      <td>0</td>\n",
       "      <td>3</td>\n",
       "      <td>7</td>\n",
       "      <td>1890</td>\n",
       "      <td>0</td>\n",
       "      <td>18</td>\n",
       "      <td>0</td>\n",
       "      <td>98038</td>\n",
       "      <td>47.3684</td>\n",
       "      <td>-122.031</td>\n",
       "      <td>2390</td>\n",
       "      <td>7570</td>\n",
       "    </tr>\n",
       "    <tr>\n",
       "      <th>1</th>\n",
       "      <td>1175000570</td>\n",
       "      <td>20150312T000000</td>\n",
       "      <td>530000.0</td>\n",
       "      <td>5</td>\n",
       "      <td>2.00</td>\n",
       "      <td>1810</td>\n",
       "      <td>4850</td>\n",
       "      <td>1.5</td>\n",
       "      <td>0</td>\n",
       "      <td>0</td>\n",
       "      <td>3</td>\n",
       "      <td>7</td>\n",
       "      <td>1810</td>\n",
       "      <td>0</td>\n",
       "      <td>121</td>\n",
       "      <td>0</td>\n",
       "      <td>98107</td>\n",
       "      <td>47.6700</td>\n",
       "      <td>-122.394</td>\n",
       "      <td>1360</td>\n",
       "      <td>4850</td>\n",
       "    </tr>\n",
       "    <tr>\n",
       "      <th>2</th>\n",
       "      <td>16000397</td>\n",
       "      <td>20141205T000000</td>\n",
       "      <td>189000.0</td>\n",
       "      <td>2</td>\n",
       "      <td>1.00</td>\n",
       "      <td>1200</td>\n",
       "      <td>9850</td>\n",
       "      <td>1.0</td>\n",
       "      <td>0</td>\n",
       "      <td>0</td>\n",
       "      <td>4</td>\n",
       "      <td>7</td>\n",
       "      <td>1200</td>\n",
       "      <td>0</td>\n",
       "      <td>100</td>\n",
       "      <td>0</td>\n",
       "      <td>98002</td>\n",
       "      <td>47.3089</td>\n",
       "      <td>-122.210</td>\n",
       "      <td>1060</td>\n",
       "      <td>5095</td>\n",
       "    </tr>\n",
       "    <tr>\n",
       "      <th>3</th>\n",
       "      <td>461000390</td>\n",
       "      <td>20140624T000000</td>\n",
       "      <td>687500.0</td>\n",
       "      <td>4</td>\n",
       "      <td>1.75</td>\n",
       "      <td>2330</td>\n",
       "      <td>5000</td>\n",
       "      <td>1.5</td>\n",
       "      <td>0</td>\n",
       "      <td>0</td>\n",
       "      <td>4</td>\n",
       "      <td>7</td>\n",
       "      <td>1510</td>\n",
       "      <td>820</td>\n",
       "      <td>92</td>\n",
       "      <td>0</td>\n",
       "      <td>98117</td>\n",
       "      <td>47.6823</td>\n",
       "      <td>-122.368</td>\n",
       "      <td>1460</td>\n",
       "      <td>5000</td>\n",
       "    </tr>\n",
       "    <tr>\n",
       "      <th>4</th>\n",
       "      <td>7895500070</td>\n",
       "      <td>20150213T000000</td>\n",
       "      <td>240000.0</td>\n",
       "      <td>4</td>\n",
       "      <td>1.00</td>\n",
       "      <td>1220</td>\n",
       "      <td>8075</td>\n",
       "      <td>1.0</td>\n",
       "      <td>0</td>\n",
       "      <td>0</td>\n",
       "      <td>2</td>\n",
       "      <td>7</td>\n",
       "      <td>890</td>\n",
       "      <td>330</td>\n",
       "      <td>52</td>\n",
       "      <td>0</td>\n",
       "      <td>98001</td>\n",
       "      <td>47.3341</td>\n",
       "      <td>-122.282</td>\n",
       "      <td>1290</td>\n",
       "      <td>7800</td>\n",
       "    </tr>\n",
       "  </tbody>\n",
       "</table>\n",
       "</div>"
      ],
      "text/plain": [
       "           id             date     price  bedrooms  bathrooms  sqft_living  \\\n",
       "0  3793500160  20150312T000000  323000.0         3       2.50         1890   \n",
       "1  1175000570  20150312T000000  530000.0         5       2.00         1810   \n",
       "2    16000397  20141205T000000  189000.0         2       1.00         1200   \n",
       "3   461000390  20140624T000000  687500.0         4       1.75         2330   \n",
       "4  7895500070  20150213T000000  240000.0         4       1.00         1220   \n",
       "\n",
       "   sqft_lot  floors  waterfront  view  condition  grade  sqft_above  \\\n",
       "0      6560     2.0           0     0          3      7        1890   \n",
       "1      4850     1.5           0     0          3      7        1810   \n",
       "2      9850     1.0           0     0          4      7        1200   \n",
       "3      5000     1.5           0     0          4      7        1510   \n",
       "4      8075     1.0           0     0          2      7         890   \n",
       "\n",
       "   sqft_basement  yr_built  yr_renovated  zipcode      lat     long  \\\n",
       "0              0        18             0    98038  47.3684 -122.031   \n",
       "1              0       121             0    98107  47.6700 -122.394   \n",
       "2              0       100             0    98002  47.3089 -122.210   \n",
       "3            820        92             0    98117  47.6823 -122.368   \n",
       "4            330        52             0    98001  47.3341 -122.282   \n",
       "\n",
       "   sqft_living15  sqft_lot15  \n",
       "0           2390        7570  \n",
       "1           1360        4850  \n",
       "2           1060        5095  \n",
       "3           1460        5000  \n",
       "4           1290        7800  "
      ]
     },
     "execution_count": 63,
     "metadata": {},
     "output_type": "execute_result"
    }
   ],
   "source": [
    "dataset_test.head()"
   ]
  },
  {
   "cell_type": "code",
   "execution_count": 64,
   "id": "1fd2c412",
   "metadata": {},
   "outputs": [],
   "source": [
    "# Converting skewed distribution into log normal distribution\n",
    "num_feature = ['price','sqft_living','sqft_above','sqft_living15']\n",
    "\n",
    "for feature in num_feature:\n",
    "    dataset_test[feature] = np.log(dataset_test[feature])         #taking log of all the variables that were skewed."
   ]
  },
  {
   "cell_type": "code",
   "execution_count": 65,
   "id": "a01e4f5e",
   "metadata": {},
   "outputs": [
    {
     "data": {
      "text/html": [
       "<div>\n",
       "<style scoped>\n",
       "    .dataframe tbody tr th:only-of-type {\n",
       "        vertical-align: middle;\n",
       "    }\n",
       "\n",
       "    .dataframe tbody tr th {\n",
       "        vertical-align: top;\n",
       "    }\n",
       "\n",
       "    .dataframe thead th {\n",
       "        text-align: right;\n",
       "    }\n",
       "</style>\n",
       "<table border=\"1\" class=\"dataframe\">\n",
       "  <thead>\n",
       "    <tr style=\"text-align: right;\">\n",
       "      <th></th>\n",
       "      <th>id</th>\n",
       "      <th>date</th>\n",
       "      <th>price</th>\n",
       "      <th>bedrooms</th>\n",
       "      <th>bathrooms</th>\n",
       "      <th>sqft_living</th>\n",
       "      <th>sqft_lot</th>\n",
       "      <th>floors</th>\n",
       "      <th>waterfront</th>\n",
       "      <th>view</th>\n",
       "      <th>condition</th>\n",
       "      <th>grade</th>\n",
       "      <th>sqft_above</th>\n",
       "      <th>sqft_basement</th>\n",
       "      <th>yr_built</th>\n",
       "      <th>yr_renovated</th>\n",
       "      <th>zipcode</th>\n",
       "      <th>lat</th>\n",
       "      <th>long</th>\n",
       "      <th>sqft_living15</th>\n",
       "      <th>sqft_lot15</th>\n",
       "    </tr>\n",
       "  </thead>\n",
       "  <tbody>\n",
       "    <tr>\n",
       "      <th>0</th>\n",
       "      <td>3793500160</td>\n",
       "      <td>20150312T000000</td>\n",
       "      <td>12.685408</td>\n",
       "      <td>3</td>\n",
       "      <td>2.50</td>\n",
       "      <td>7.544332</td>\n",
       "      <td>6560</td>\n",
       "      <td>2.0</td>\n",
       "      <td>0</td>\n",
       "      <td>0</td>\n",
       "      <td>3</td>\n",
       "      <td>7</td>\n",
       "      <td>7.544332</td>\n",
       "      <td>0</td>\n",
       "      <td>18</td>\n",
       "      <td>0</td>\n",
       "      <td>98038</td>\n",
       "      <td>47.3684</td>\n",
       "      <td>-122.031</td>\n",
       "      <td>7.779049</td>\n",
       "      <td>7570</td>\n",
       "    </tr>\n",
       "    <tr>\n",
       "      <th>1</th>\n",
       "      <td>1175000570</td>\n",
       "      <td>20150312T000000</td>\n",
       "      <td>13.180632</td>\n",
       "      <td>5</td>\n",
       "      <td>2.00</td>\n",
       "      <td>7.501082</td>\n",
       "      <td>4850</td>\n",
       "      <td>1.5</td>\n",
       "      <td>0</td>\n",
       "      <td>0</td>\n",
       "      <td>3</td>\n",
       "      <td>7</td>\n",
       "      <td>7.501082</td>\n",
       "      <td>0</td>\n",
       "      <td>121</td>\n",
       "      <td>0</td>\n",
       "      <td>98107</td>\n",
       "      <td>47.6700</td>\n",
       "      <td>-122.394</td>\n",
       "      <td>7.215240</td>\n",
       "      <td>4850</td>\n",
       "    </tr>\n",
       "    <tr>\n",
       "      <th>2</th>\n",
       "      <td>16000397</td>\n",
       "      <td>20141205T000000</td>\n",
       "      <td>12.149502</td>\n",
       "      <td>2</td>\n",
       "      <td>1.00</td>\n",
       "      <td>7.090077</td>\n",
       "      <td>9850</td>\n",
       "      <td>1.0</td>\n",
       "      <td>0</td>\n",
       "      <td>0</td>\n",
       "      <td>4</td>\n",
       "      <td>7</td>\n",
       "      <td>7.090077</td>\n",
       "      <td>0</td>\n",
       "      <td>100</td>\n",
       "      <td>0</td>\n",
       "      <td>98002</td>\n",
       "      <td>47.3089</td>\n",
       "      <td>-122.210</td>\n",
       "      <td>6.966024</td>\n",
       "      <td>5095</td>\n",
       "    </tr>\n",
       "    <tr>\n",
       "      <th>3</th>\n",
       "      <td>461000390</td>\n",
       "      <td>20140624T000000</td>\n",
       "      <td>13.440817</td>\n",
       "      <td>4</td>\n",
       "      <td>1.75</td>\n",
       "      <td>7.753624</td>\n",
       "      <td>5000</td>\n",
       "      <td>1.5</td>\n",
       "      <td>0</td>\n",
       "      <td>0</td>\n",
       "      <td>4</td>\n",
       "      <td>7</td>\n",
       "      <td>7.319865</td>\n",
       "      <td>820</td>\n",
       "      <td>92</td>\n",
       "      <td>0</td>\n",
       "      <td>98117</td>\n",
       "      <td>47.6823</td>\n",
       "      <td>-122.368</td>\n",
       "      <td>7.286192</td>\n",
       "      <td>5000</td>\n",
       "    </tr>\n",
       "    <tr>\n",
       "      <th>4</th>\n",
       "      <td>7895500070</td>\n",
       "      <td>20150213T000000</td>\n",
       "      <td>12.388394</td>\n",
       "      <td>4</td>\n",
       "      <td>1.00</td>\n",
       "      <td>7.106606</td>\n",
       "      <td>8075</td>\n",
       "      <td>1.0</td>\n",
       "      <td>0</td>\n",
       "      <td>0</td>\n",
       "      <td>2</td>\n",
       "      <td>7</td>\n",
       "      <td>6.791221</td>\n",
       "      <td>330</td>\n",
       "      <td>52</td>\n",
       "      <td>0</td>\n",
       "      <td>98001</td>\n",
       "      <td>47.3341</td>\n",
       "      <td>-122.282</td>\n",
       "      <td>7.162397</td>\n",
       "      <td>7800</td>\n",
       "    </tr>\n",
       "  </tbody>\n",
       "</table>\n",
       "</div>"
      ],
      "text/plain": [
       "           id             date      price  bedrooms  bathrooms  sqft_living  \\\n",
       "0  3793500160  20150312T000000  12.685408         3       2.50     7.544332   \n",
       "1  1175000570  20150312T000000  13.180632         5       2.00     7.501082   \n",
       "2    16000397  20141205T000000  12.149502         2       1.00     7.090077   \n",
       "3   461000390  20140624T000000  13.440817         4       1.75     7.753624   \n",
       "4  7895500070  20150213T000000  12.388394         4       1.00     7.106606   \n",
       "\n",
       "   sqft_lot  floors  waterfront  view  condition  grade  sqft_above  \\\n",
       "0      6560     2.0           0     0          3      7    7.544332   \n",
       "1      4850     1.5           0     0          3      7    7.501082   \n",
       "2      9850     1.0           0     0          4      7    7.090077   \n",
       "3      5000     1.5           0     0          4      7    7.319865   \n",
       "4      8075     1.0           0     0          2      7    6.791221   \n",
       "\n",
       "   sqft_basement  yr_built  yr_renovated  zipcode      lat     long  \\\n",
       "0              0        18             0    98038  47.3684 -122.031   \n",
       "1              0       121             0    98107  47.6700 -122.394   \n",
       "2              0       100             0    98002  47.3089 -122.210   \n",
       "3            820        92             0    98117  47.6823 -122.368   \n",
       "4            330        52             0    98001  47.3341 -122.282   \n",
       "\n",
       "   sqft_living15  sqft_lot15  \n",
       "0       7.779049        7570  \n",
       "1       7.215240        4850  \n",
       "2       6.966024        5095  \n",
       "3       7.286192        5000  \n",
       "4       7.162397        7800  "
      ]
     },
     "execution_count": 65,
     "metadata": {},
     "output_type": "execute_result"
    }
   ],
   "source": [
    "dataset_test.head()"
   ]
  },
  {
   "cell_type": "markdown",
   "id": "c43574f6",
   "metadata": {},
   "source": [
    "#### We also tried doing Standard Scaling , but we got best results with MinMax scaling"
   ]
  },
  {
   "cell_type": "code",
   "execution_count": 66,
   "id": "cffc1426",
   "metadata": {},
   "outputs": [
    {
     "data": {
      "text/plain": [
       "MinMaxScaler()"
      ]
     },
     "execution_count": 66,
     "metadata": {},
     "output_type": "execute_result"
    }
   ],
   "source": [
    "#Feature scaling\n",
    "feature_scaler = [feature for feature in dataset_test.columns if feature not in ['id','price','date']]\n",
    "\n",
    "from sklearn.preprocessing import MinMaxScaler\n",
    "scaler  = MinMaxScaler()\n",
    "scaler.fit(dataset_test[feature_scaler])"
   ]
  },
  {
   "cell_type": "code",
   "execution_count": 67,
   "id": "b6a6c43d",
   "metadata": {},
   "outputs": [],
   "source": [
    "data2 = pd.concat([dataset_test[['id','price','date']].reset_index(drop=True),\n",
    "                 pd.DataFrame(scaler.transform(dataset_test[feature_scaler]),columns=feature_scaler)],axis=1)"
   ]
  },
  {
   "cell_type": "code",
   "execution_count": 68,
   "id": "b992517a",
   "metadata": {},
   "outputs": [
    {
     "data": {
      "text/html": [
       "<div>\n",
       "<style scoped>\n",
       "    .dataframe tbody tr th:only-of-type {\n",
       "        vertical-align: middle;\n",
       "    }\n",
       "\n",
       "    .dataframe tbody tr th {\n",
       "        vertical-align: top;\n",
       "    }\n",
       "\n",
       "    .dataframe thead th {\n",
       "        text-align: right;\n",
       "    }\n",
       "</style>\n",
       "<table border=\"1\" class=\"dataframe\">\n",
       "  <thead>\n",
       "    <tr style=\"text-align: right;\">\n",
       "      <th></th>\n",
       "      <th>id</th>\n",
       "      <th>price</th>\n",
       "      <th>date</th>\n",
       "      <th>bedrooms</th>\n",
       "      <th>bathrooms</th>\n",
       "      <th>sqft_living</th>\n",
       "      <th>sqft_lot</th>\n",
       "      <th>floors</th>\n",
       "      <th>waterfront</th>\n",
       "      <th>view</th>\n",
       "      <th>condition</th>\n",
       "      <th>grade</th>\n",
       "      <th>sqft_above</th>\n",
       "      <th>sqft_basement</th>\n",
       "      <th>yr_built</th>\n",
       "      <th>yr_renovated</th>\n",
       "      <th>zipcode</th>\n",
       "      <th>lat</th>\n",
       "      <th>long</th>\n",
       "      <th>sqft_living15</th>\n",
       "      <th>sqft_lot15</th>\n",
       "    </tr>\n",
       "  </thead>\n",
       "  <tbody>\n",
       "    <tr>\n",
       "      <th>0</th>\n",
       "      <td>3793500160</td>\n",
       "      <td>12.685408</td>\n",
       "      <td>20150312T000000</td>\n",
       "      <td>0.250</td>\n",
       "      <td>0.363636</td>\n",
       "      <td>0.513685</td>\n",
       "      <td>0.013513</td>\n",
       "      <td>0.4</td>\n",
       "      <td>0.0</td>\n",
       "      <td>0.0</td>\n",
       "      <td>0.50</td>\n",
       "      <td>0.375</td>\n",
       "      <td>0.513685</td>\n",
       "      <td>0.000000</td>\n",
       "      <td>0.104348</td>\n",
       "      <td>0.0</td>\n",
       "      <td>0.186869</td>\n",
       "      <td>0.298646</td>\n",
       "      <td>0.414150</td>\n",
       "      <td>0.652137</td>\n",
       "      <td>0.023348</td>\n",
       "    </tr>\n",
       "    <tr>\n",
       "      <th>1</th>\n",
       "      <td>1175000570</td>\n",
       "      <td>13.180632</td>\n",
       "      <td>20150312T000000</td>\n",
       "      <td>0.500</td>\n",
       "      <td>0.272727</td>\n",
       "      <td>0.498914</td>\n",
       "      <td>0.009581</td>\n",
       "      <td>0.2</td>\n",
       "      <td>0.0</td>\n",
       "      <td>0.0</td>\n",
       "      <td>0.50</td>\n",
       "      <td>0.375</td>\n",
       "      <td>0.498914</td>\n",
       "      <td>0.000000</td>\n",
       "      <td>1.000000</td>\n",
       "      <td>0.0</td>\n",
       "      <td>0.535354</td>\n",
       "      <td>0.815704</td>\n",
       "      <td>0.100949</td>\n",
       "      <td>0.446739</td>\n",
       "      <td>0.014029</td>\n",
       "    </tr>\n",
       "    <tr>\n",
       "      <th>2</th>\n",
       "      <td>16000397</td>\n",
       "      <td>12.149502</td>\n",
       "      <td>20141205T000000</td>\n",
       "      <td>0.125</td>\n",
       "      <td>0.090909</td>\n",
       "      <td>0.358544</td>\n",
       "      <td>0.021078</td>\n",
       "      <td>0.0</td>\n",
       "      <td>0.0</td>\n",
       "      <td>0.0</td>\n",
       "      <td>0.75</td>\n",
       "      <td>0.375</td>\n",
       "      <td>0.358544</td>\n",
       "      <td>0.000000</td>\n",
       "      <td>0.817391</td>\n",
       "      <td>0.0</td>\n",
       "      <td>0.005051</td>\n",
       "      <td>0.196640</td>\n",
       "      <td>0.259707</td>\n",
       "      <td>0.355949</td>\n",
       "      <td>0.014869</td>\n",
       "    </tr>\n",
       "    <tr>\n",
       "      <th>3</th>\n",
       "      <td>461000390</td>\n",
       "      <td>13.440817</td>\n",
       "      <td>20140624T000000</td>\n",
       "      <td>0.375</td>\n",
       "      <td>0.227273</td>\n",
       "      <td>0.585164</td>\n",
       "      <td>0.009926</td>\n",
       "      <td>0.2</td>\n",
       "      <td>0.0</td>\n",
       "      <td>0.0</td>\n",
       "      <td>0.75</td>\n",
       "      <td>0.375</td>\n",
       "      <td>0.437023</td>\n",
       "      <td>0.319066</td>\n",
       "      <td>0.747826</td>\n",
       "      <td>0.0</td>\n",
       "      <td>0.585859</td>\n",
       "      <td>0.836791</td>\n",
       "      <td>0.123382</td>\n",
       "      <td>0.472587</td>\n",
       "      <td>0.014543</td>\n",
       "    </tr>\n",
       "    <tr>\n",
       "      <th>4</th>\n",
       "      <td>7895500070</td>\n",
       "      <td>12.388394</td>\n",
       "      <td>20150213T000000</td>\n",
       "      <td>0.375</td>\n",
       "      <td>0.090909</td>\n",
       "      <td>0.364189</td>\n",
       "      <td>0.016996</td>\n",
       "      <td>0.0</td>\n",
       "      <td>0.0</td>\n",
       "      <td>0.0</td>\n",
       "      <td>0.25</td>\n",
       "      <td>0.375</td>\n",
       "      <td>0.256476</td>\n",
       "      <td>0.128405</td>\n",
       "      <td>0.400000</td>\n",
       "      <td>0.0</td>\n",
       "      <td>0.000000</td>\n",
       "      <td>0.239842</td>\n",
       "      <td>0.197584</td>\n",
       "      <td>0.427488</td>\n",
       "      <td>0.024136</td>\n",
       "    </tr>\n",
       "  </tbody>\n",
       "</table>\n",
       "</div>"
      ],
      "text/plain": [
       "           id      price             date  bedrooms  bathrooms  sqft_living  \\\n",
       "0  3793500160  12.685408  20150312T000000     0.250   0.363636     0.513685   \n",
       "1  1175000570  13.180632  20150312T000000     0.500   0.272727     0.498914   \n",
       "2    16000397  12.149502  20141205T000000     0.125   0.090909     0.358544   \n",
       "3   461000390  13.440817  20140624T000000     0.375   0.227273     0.585164   \n",
       "4  7895500070  12.388394  20150213T000000     0.375   0.090909     0.364189   \n",
       "\n",
       "   sqft_lot  floors  waterfront  view  condition  grade  sqft_above  \\\n",
       "0  0.013513     0.4         0.0   0.0       0.50  0.375    0.513685   \n",
       "1  0.009581     0.2         0.0   0.0       0.50  0.375    0.498914   \n",
       "2  0.021078     0.0         0.0   0.0       0.75  0.375    0.358544   \n",
       "3  0.009926     0.2         0.0   0.0       0.75  0.375    0.437023   \n",
       "4  0.016996     0.0         0.0   0.0       0.25  0.375    0.256476   \n",
       "\n",
       "   sqft_basement  yr_built  yr_renovated   zipcode       lat      long  \\\n",
       "0       0.000000  0.104348           0.0  0.186869  0.298646  0.414150   \n",
       "1       0.000000  1.000000           0.0  0.535354  0.815704  0.100949   \n",
       "2       0.000000  0.817391           0.0  0.005051  0.196640  0.259707   \n",
       "3       0.319066  0.747826           0.0  0.585859  0.836791  0.123382   \n",
       "4       0.128405  0.400000           0.0  0.000000  0.239842  0.197584   \n",
       "\n",
       "   sqft_living15  sqft_lot15  \n",
       "0       0.652137    0.023348  \n",
       "1       0.446739    0.014029  \n",
       "2       0.355949    0.014869  \n",
       "3       0.472587    0.014543  \n",
       "4       0.427488    0.024136  "
      ]
     },
     "execution_count": 68,
     "metadata": {},
     "output_type": "execute_result"
    }
   ],
   "source": [
    "data2.head()"
   ]
  },
  {
   "cell_type": "markdown",
   "id": "4b0a95ce",
   "metadata": {},
   "source": [
    "### Model fitting after feature engineering :"
   ]
  },
  {
   "cell_type": "markdown",
   "id": "7073f2c6",
   "metadata": {},
   "source": [
    "Here we try to fit the above models post feature engineering to see if the performance of the model has improved after feature engineering."
   ]
  },
  {
   "cell_type": "markdown",
   "id": "d5929650",
   "metadata": {},
   "source": [
    "#### Model 1 :"
   ]
  },
  {
   "cell_type": "code",
   "execution_count": 69,
   "id": "c2ffb68e",
   "metadata": {},
   "outputs": [],
   "source": [
    "X = dataset_2[['sqft_living']]         #taking sqft_living as the predictor \n",
    "y = dataset_2['price']                 #taking price as the target variable"
   ]
  },
  {
   "cell_type": "code",
   "execution_count": 70,
   "id": "e0977105",
   "metadata": {},
   "outputs": [],
   "source": [
    "from sklearn.linear_model import LinearRegression"
   ]
  },
  {
   "cell_type": "code",
   "execution_count": 71,
   "id": "1d7eb17e",
   "metadata": {},
   "outputs": [
    {
     "data": {
      "text/plain": [
       "LinearRegression()"
      ]
     },
     "execution_count": 71,
     "metadata": {},
     "output_type": "execute_result"
    }
   ],
   "source": [
    "LR = LinearRegression()               #fitting a linear regression model\n",
    "LR.fit(X,y)"
   ]
  },
  {
   "cell_type": "code",
   "execution_count": 72,
   "id": "d7187706",
   "metadata": {},
   "outputs": [],
   "source": [
    "#perform 10 fold cross validation to get the cross validation scores"
   ]
  },
  {
   "cell_type": "code",
   "execution_count": 73,
   "id": "537bb8e7",
   "metadata": {},
   "outputs": [],
   "source": [
    "from sklearn.model_selection import cross_val_score          \n",
    "scores = cross_val_score(LR,X,y,cv=10,scoring='r2')          #CV score with R squared as the metric\n",
    "cv_scores = scores.mean()                                    #taking the mean of the score"
   ]
  },
  {
   "cell_type": "code",
   "execution_count": 74,
   "id": "a655084a",
   "metadata": {
    "scrolled": false
   },
   "outputs": [
    {
     "data": {
      "text/plain": [
       "0.46"
      ]
     },
     "execution_count": 74,
     "metadata": {},
     "output_type": "execute_result"
    }
   ],
   "source": [
    "np.round(cv_scores,2)"
   ]
  },
  {
   "cell_type": "code",
   "execution_count": 75,
   "id": "93306189",
   "metadata": {},
   "outputs": [],
   "source": [
    "from sklearn.model_selection import cross_val_score          \n",
    "scores = cross_val_score(LR,X,y,cv=10,scoring='neg_root_mean_squared_error')          #CV score with RMSE as the metric\n",
    "cv_scores = scores.mean()                                    #taking the mean of the score"
   ]
  },
  {
   "cell_type": "code",
   "execution_count": 76,
   "id": "0345ac69",
   "metadata": {
    "scrolled": false
   },
   "outputs": [
    {
     "data": {
      "text/plain": [
       "0.39"
      ]
     },
     "execution_count": 76,
     "metadata": {},
     "output_type": "execute_result"
    }
   ],
   "source": [
    "np.round(np.abs(cv_scores),2)"
   ]
  },
  {
   "cell_type": "markdown",
   "id": "ecaa823d",
   "metadata": {},
   "source": [
    "#### Model 2 :"
   ]
  },
  {
   "cell_type": "code",
   "execution_count": 77,
   "id": "55402b3d",
   "metadata": {},
   "outputs": [],
   "source": [
    "X = dataset_2[['sqft_living','grade']] #taking sqft_living and grade as the predictor \n",
    "y = dataset_2['price']                 #taking price as the target variable"
   ]
  },
  {
   "cell_type": "code",
   "execution_count": 78,
   "id": "fd9364ba",
   "metadata": {},
   "outputs": [],
   "source": [
    "from sklearn.linear_model import LinearRegression"
   ]
  },
  {
   "cell_type": "code",
   "execution_count": 79,
   "id": "ed8cc33c",
   "metadata": {},
   "outputs": [
    {
     "data": {
      "text/plain": [
       "LinearRegression()"
      ]
     },
     "execution_count": 79,
     "metadata": {},
     "output_type": "execute_result"
    }
   ],
   "source": [
    "LR = LinearRegression()               #fitting a linear regression model\n",
    "LR.fit(X,y)"
   ]
  },
  {
   "cell_type": "code",
   "execution_count": 80,
   "id": "1fe7482e",
   "metadata": {},
   "outputs": [],
   "source": [
    "#perform 10 fold cross validation to get the cross validation scores"
   ]
  },
  {
   "cell_type": "code",
   "execution_count": 81,
   "id": "35935024",
   "metadata": {},
   "outputs": [],
   "source": [
    "from sklearn.model_selection import cross_val_score          #CV score\n",
    "scores = cross_val_score(LR,X,y,cv=10,scoring='r2')          #CV score with R squared as the metric\n",
    "cv_scores = scores.mean()"
   ]
  },
  {
   "cell_type": "code",
   "execution_count": 82,
   "id": "55667168",
   "metadata": {
    "scrolled": false
   },
   "outputs": [
    {
     "data": {
      "text/plain": [
       "0.55"
      ]
     },
     "execution_count": 82,
     "metadata": {},
     "output_type": "execute_result"
    }
   ],
   "source": [
    "np.round(cv_scores,2)"
   ]
  },
  {
   "cell_type": "code",
   "execution_count": 83,
   "id": "9a40b2a8",
   "metadata": {},
   "outputs": [],
   "source": [
    "from sklearn.model_selection import cross_val_score          #CV score\n",
    "scores = cross_val_score(LR,X,y,cv=10,scoring='neg_root_mean_squared_error')          #CV score with RMSE as the metric\n",
    "cv_scores = scores.mean()"
   ]
  },
  {
   "cell_type": "code",
   "execution_count": 84,
   "id": "6f283cb2",
   "metadata": {
    "scrolled": false
   },
   "outputs": [
    {
     "data": {
      "text/plain": [
       "0.35"
      ]
     },
     "execution_count": 84,
     "metadata": {},
     "output_type": "execute_result"
    }
   ],
   "source": [
    "np.round(np.abs(cv_scores),2)"
   ]
  },
  {
   "cell_type": "markdown",
   "id": "564c72da",
   "metadata": {},
   "source": [
    "#### Model 3 :"
   ]
  },
  {
   "cell_type": "code",
   "execution_count": 85,
   "id": "d78b26e5",
   "metadata": {},
   "outputs": [],
   "source": [
    "X = dataset_2[['bedrooms','bathrooms','sqft_living','grade']] #taking bedrooms, bathrooms, sqft_living and grade as the predictor \n",
    "y = dataset_2['price']                 #taking price as the target variable"
   ]
  },
  {
   "cell_type": "code",
   "execution_count": 86,
   "id": "1b88473a",
   "metadata": {},
   "outputs": [],
   "source": [
    "from sklearn.linear_model import LinearRegression"
   ]
  },
  {
   "cell_type": "code",
   "execution_count": 87,
   "id": "051c8c3e",
   "metadata": {},
   "outputs": [
    {
     "data": {
      "text/plain": [
       "LinearRegression()"
      ]
     },
     "execution_count": 87,
     "metadata": {},
     "output_type": "execute_result"
    }
   ],
   "source": [
    "LR = LinearRegression()               #fitting a linear regression model\n",
    "LR.fit(X,y)"
   ]
  },
  {
   "cell_type": "code",
   "execution_count": 88,
   "id": "ed0e1a3c",
   "metadata": {},
   "outputs": [],
   "source": [
    "#perform 10 fold cross validation to get the cross validation scores"
   ]
  },
  {
   "cell_type": "code",
   "execution_count": 89,
   "id": "14903cfb",
   "metadata": {},
   "outputs": [],
   "source": [
    "from sklearn.model_selection import cross_val_score          #CV score\n",
    "scores = cross_val_score(LR,X,y,cv=10,scoring='r2')          #CV score with R squared as the metric\n",
    "cv_scores = scores.mean()"
   ]
  },
  {
   "cell_type": "code",
   "execution_count": 90,
   "id": "5f37dd5a",
   "metadata": {
    "scrolled": false
   },
   "outputs": [
    {
     "data": {
      "text/plain": [
       "0.55"
      ]
     },
     "execution_count": 90,
     "metadata": {},
     "output_type": "execute_result"
    }
   ],
   "source": [
    "np.round(cv_scores,2)"
   ]
  },
  {
   "cell_type": "code",
   "execution_count": 91,
   "id": "c4b51e90",
   "metadata": {},
   "outputs": [],
   "source": [
    "from sklearn.model_selection import cross_val_score          #CV score\n",
    "scores = cross_val_score(LR,X,y,cv=10,scoring='neg_root_mean_squared_error')          #CV score with RMSE as the metric\n",
    "cv_scores = scores.mean()"
   ]
  },
  {
   "cell_type": "code",
   "execution_count": 92,
   "id": "9a51048c",
   "metadata": {
    "scrolled": false
   },
   "outputs": [
    {
     "data": {
      "text/plain": [
       "0.35"
      ]
     },
     "execution_count": 92,
     "metadata": {},
     "output_type": "execute_result"
    }
   ],
   "source": [
    "np.round(np.abs(cv_scores),2)"
   ]
  },
  {
   "cell_type": "markdown",
   "id": "77d360dc",
   "metadata": {},
   "source": [
    "We can observe that with feature engineering and increasing number of predictors there is a slight improvement in the performance of the model."
   ]
  },
  {
   "cell_type": "markdown",
   "id": "505530f2",
   "metadata": {},
   "source": [
    "# Linear Regression with R squared & RMSE score:"
   ]
  },
  {
   "cell_type": "markdown",
   "id": "213bd077",
   "metadata": {},
   "source": [
    "##### We perform a Linear Regression on the featured data and test the model on the featured test data to get the R squared and RMSE score."
   ]
  },
  {
   "cell_type": "markdown",
   "id": "6f5131cb",
   "metadata": {},
   "source": [
    "Here we consider all the numerical variables in the dataset after feature engineering as the set of predictors and price as the target.  \n",
    "Here we drop zipcode , id and date from the predictors."
   ]
  },
  {
   "cell_type": "code",
   "execution_count": 93,
   "id": "1c10bf82",
   "metadata": {},
   "outputs": [],
   "source": [
    "X = dataset_2[['bedrooms','bathrooms','sqft_living','sqft_lot','floors','waterfront','view','condition','grade','sqft_above','sqft_basement','yr_built','yr_renovated','sqft_living15','sqft_lot15','lat','long']]\n",
    "y = dataset_2['price']"
   ]
  },
  {
   "cell_type": "code",
   "execution_count": 94,
   "id": "532d8c6b",
   "metadata": {},
   "outputs": [],
   "source": [
    "X_test = dataset_test[['bedrooms','bathrooms','sqft_living','sqft_lot','floors','waterfront','view','condition','grade','sqft_above','sqft_basement','yr_built','yr_renovated','sqft_living15','sqft_lot15','lat','long']]\n",
    "y_test = dataset_test['price']"
   ]
  },
  {
   "cell_type": "code",
   "execution_count": 95,
   "id": "d2518baf",
   "metadata": {},
   "outputs": [],
   "source": [
    "from sklearn.linear_model import LinearRegression"
   ]
  },
  {
   "cell_type": "code",
   "execution_count": 96,
   "id": "2718db24",
   "metadata": {},
   "outputs": [
    {
     "data": {
      "text/plain": [
       "LinearRegression()"
      ]
     },
     "execution_count": 96,
     "metadata": {},
     "output_type": "execute_result"
    }
   ],
   "source": [
    "LR = LinearRegression()               #fitting a linear regression model\n",
    "LR.fit(X,y)"
   ]
  },
  {
   "cell_type": "code",
   "execution_count": 97,
   "id": "8e232182",
   "metadata": {},
   "outputs": [],
   "source": [
    "#perform 10 fold cross validation to get the cross validation scores"
   ]
  },
  {
   "cell_type": "code",
   "execution_count": 98,
   "id": "b81b24b3",
   "metadata": {},
   "outputs": [],
   "source": [
    "from sklearn.model_selection import cross_val_score          #CV score\n",
    "scores = cross_val_score(LR,X,y,cv=10,scoring='r2')          #CV score with R squared as the metric\n",
    "cv_scores = scores.mean()"
   ]
  },
  {
   "cell_type": "code",
   "execution_count": 99,
   "id": "ff54e2c5",
   "metadata": {
    "scrolled": false
   },
   "outputs": [
    {
     "data": {
      "text/plain": [
       "0.77"
      ]
     },
     "execution_count": 99,
     "metadata": {},
     "output_type": "execute_result"
    }
   ],
   "source": [
    "np.round(cv_scores,2)"
   ]
  },
  {
   "cell_type": "code",
   "execution_count": 100,
   "id": "413e5432",
   "metadata": {},
   "outputs": [],
   "source": [
    "from sklearn.model_selection import cross_val_score          #CV score\n",
    "scores = cross_val_score(LR,X,y,cv=10,scoring='neg_root_mean_squared_error')          #CV score with RMSE as the metric\n",
    "cv_scores = scores.mean()"
   ]
  },
  {
   "cell_type": "code",
   "execution_count": 101,
   "id": "0dcd1bc9",
   "metadata": {
    "scrolled": false
   },
   "outputs": [
    {
     "data": {
      "text/plain": [
       "0.25"
      ]
     },
     "execution_count": 101,
     "metadata": {},
     "output_type": "execute_result"
    }
   ],
   "source": [
    "np.round(np.abs(cv_scores),2)"
   ]
  },
  {
   "cell_type": "code",
   "execution_count": 102,
   "id": "5f28edf9",
   "metadata": {},
   "outputs": [
    {
     "data": {
      "text/plain": [
       "array([12.61306024, 13.18833643, 12.45053103, ..., 13.18585752,\n",
       "       12.67766392, 12.86788484])"
      ]
     },
     "execution_count": 102,
     "metadata": {},
     "output_type": "execute_result"
    }
   ],
   "source": [
    "y_pred = LR.predict(X_test)        #predicting the price using test data \n",
    "y_pred"
   ]
  },
  {
   "cell_type": "code",
   "execution_count": 103,
   "id": "27d8ccfa",
   "metadata": {},
   "outputs": [
    {
     "data": {
      "text/plain": [
       "0.76"
      ]
     },
     "execution_count": 103,
     "metadata": {},
     "output_type": "execute_result"
    }
   ],
   "source": [
    "from sklearn.metrics import r2_score            #CV score of the model with predicted data\n",
    "np.round(r2_score(y_test,y_pred),2)"
   ]
  },
  {
   "cell_type": "code",
   "execution_count": 104,
   "id": "7e69133e",
   "metadata": {},
   "outputs": [
    {
     "data": {
      "text/plain": [
       "0.25993607317336875"
      ]
     },
     "execution_count": 104,
     "metadata": {},
     "output_type": "execute_result"
    }
   ],
   "source": [
    "#RMSE\n",
    "RMSE = np.sqrt(np.mean((np.array(y_test)-y_pred)**2))\n",
    "RMSE"
   ]
  },
  {
   "cell_type": "markdown",
   "id": "fd245125",
   "metadata": {},
   "source": [
    "## Fitting Decision Tree on unfeatured data :"
   ]
  },
  {
   "cell_type": "markdown",
   "id": "1fba2e46",
   "metadata": {},
   "source": [
    "Here we try to fit Decision Tree regression models on the train data and compute the R-squared and the RMSE values by doing a fold cross validation on the training data."
   ]
  },
  {
   "cell_type": "code",
   "execution_count": 105,
   "id": "76abe7ee",
   "metadata": {},
   "outputs": [],
   "source": [
    "from sklearn.tree import DecisionTreeRegressor\n",
    "from sklearn import tree"
   ]
  },
  {
   "cell_type": "code",
   "execution_count": 106,
   "id": "d5325bad",
   "metadata": {},
   "outputs": [],
   "source": [
    "house_test = pd.read_csv(\"kc_house_test_data.csv\")             #reading the train and the test data(un featured data)\n",
    "house_train = pd.read_csv(\"kc_house_train_data.csv\")"
   ]
  },
  {
   "cell_type": "markdown",
   "id": "70eca63f",
   "metadata": {},
   "source": [
    "##### Model 1 :"
   ]
  },
  {
   "cell_type": "code",
   "execution_count": 107,
   "id": "389aa4c7",
   "metadata": {},
   "outputs": [],
   "source": [
    "X1 = house_train[['sqft_living']]            #taking grade as the predictor \n",
    "y1 = house_train['price']"
   ]
  },
  {
   "cell_type": "code",
   "execution_count": 108,
   "id": "6c5847ed",
   "metadata": {},
   "outputs": [],
   "source": [
    "#defining a Decision Tree regression model\n",
    "model = DecisionTreeRegressor(max_depth = 5 , min_samples_leaf = 5)"
   ]
  },
  {
   "cell_type": "code",
   "execution_count": 109,
   "id": "d1ac60d4",
   "metadata": {},
   "outputs": [
    {
     "data": {
      "text/plain": [
       "DecisionTreeRegressor(max_depth=5, min_samples_leaf=5)"
      ]
     },
     "execution_count": 109,
     "metadata": {},
     "output_type": "execute_result"
    }
   ],
   "source": [
    "model.fit(X1,y1)               #fitting a Decision Tree regression model"
   ]
  },
  {
   "cell_type": "code",
   "execution_count": 110,
   "id": "151df905",
   "metadata": {},
   "outputs": [],
   "source": [
    "#perform 10 fold cross validation to get the cross validation scores"
   ]
  },
  {
   "cell_type": "code",
   "execution_count": 111,
   "id": "453d8097",
   "metadata": {},
   "outputs": [],
   "source": [
    "scores = cross_val_score(model,X1,y1,cv=10,scoring='r2')            #CV score with R squared as the metric\n",
    "cv_scores1 = scores.mean()"
   ]
  },
  {
   "cell_type": "code",
   "execution_count": 112,
   "id": "71f12642",
   "metadata": {},
   "outputs": [
    {
     "data": {
      "text/plain": [
       "0.51"
      ]
     },
     "execution_count": 112,
     "metadata": {},
     "output_type": "execute_result"
    }
   ],
   "source": [
    "np.round(cv_scores1,2)"
   ]
  },
  {
   "cell_type": "code",
   "execution_count": 113,
   "id": "2f14f9c6",
   "metadata": {},
   "outputs": [],
   "source": [
    "scores = cross_val_score(model,X1,y1,cv=10,scoring='neg_root_mean_squared_error')      #CV score with RMSE as the metric \n",
    "cv_scores1 = scores.mean()"
   ]
  },
  {
   "cell_type": "code",
   "execution_count": 114,
   "id": "53ccbaf9",
   "metadata": {},
   "outputs": [
    {
     "data": {
      "text/plain": [
       "263286.29"
      ]
     },
     "execution_count": 114,
     "metadata": {},
     "output_type": "execute_result"
    }
   ],
   "source": [
    "np.round(np.abs(cv_scores1),2)"
   ]
  },
  {
   "cell_type": "markdown",
   "id": "67b5524d",
   "metadata": {},
   "source": [
    "##### Model 2 :"
   ]
  },
  {
   "cell_type": "code",
   "execution_count": 115,
   "id": "8b6159bd",
   "metadata": {},
   "outputs": [],
   "source": [
    "X1 = house_train[['sqft_living','grade']]       #taking sqft_living and grade as the predictor \n",
    "y1 = house_train['price']"
   ]
  },
  {
   "cell_type": "code",
   "execution_count": 116,
   "id": "83847b50",
   "metadata": {},
   "outputs": [],
   "source": [
    "#defining a Decision Tree regression model\n",
    "model = DecisionTreeRegressor(max_depth = 5 , min_samples_leaf = 5)"
   ]
  },
  {
   "cell_type": "code",
   "execution_count": 117,
   "id": "291e24e9",
   "metadata": {},
   "outputs": [
    {
     "data": {
      "text/plain": [
       "DecisionTreeRegressor(max_depth=5, min_samples_leaf=5)"
      ]
     },
     "execution_count": 117,
     "metadata": {},
     "output_type": "execute_result"
    }
   ],
   "source": [
    "model.fit(X1,y1)               #fitting a Decision Tree regression model"
   ]
  },
  {
   "cell_type": "code",
   "execution_count": 118,
   "id": "f63ed0fd",
   "metadata": {},
   "outputs": [],
   "source": [
    "#perform 10 fold cross validation to get the cross validation scores"
   ]
  },
  {
   "cell_type": "code",
   "execution_count": 119,
   "id": "cdccfbd6",
   "metadata": {},
   "outputs": [],
   "source": [
    "scores = cross_val_score(model,X1,y1,cv=10,scoring='r2')            #CV score with R squared as the metric\n",
    "cv_scores1 = scores.mean()"
   ]
  },
  {
   "cell_type": "code",
   "execution_count": 120,
   "id": "4adfb417",
   "metadata": {},
   "outputs": [
    {
     "data": {
      "text/plain": [
       "0.54"
      ]
     },
     "execution_count": 120,
     "metadata": {},
     "output_type": "execute_result"
    }
   ],
   "source": [
    "np.round(cv_scores1,2)"
   ]
  },
  {
   "cell_type": "code",
   "execution_count": 121,
   "id": "8bfa5ecf",
   "metadata": {},
   "outputs": [],
   "source": [
    "scores = cross_val_score(model,X1,y1,cv=10,scoring='neg_root_mean_squared_error')      #CV score with RMSE as the metric \n",
    "cv_scores1 = scores.mean()"
   ]
  },
  {
   "cell_type": "code",
   "execution_count": 122,
   "id": "389835d8",
   "metadata": {},
   "outputs": [
    {
     "data": {
      "text/plain": [
       "254270.6"
      ]
     },
     "execution_count": 122,
     "metadata": {},
     "output_type": "execute_result"
    }
   ],
   "source": [
    "np.round(np.abs(cv_scores1),2)"
   ]
  },
  {
   "cell_type": "markdown",
   "id": "f7045bb0",
   "metadata": {},
   "source": [
    "##### Model 3 :"
   ]
  },
  {
   "cell_type": "code",
   "execution_count": 123,
   "id": "cc0a42e8",
   "metadata": {},
   "outputs": [],
   "source": [
    "X1 = house_train[['bedrooms','bathrooms','sqft_living','grade']]   #taking bedrooms, bathrooms, sqft_living and grade as the predictor \n",
    "y1 = house_train['price']"
   ]
  },
  {
   "cell_type": "code",
   "execution_count": 124,
   "id": "42450c9c",
   "metadata": {},
   "outputs": [],
   "source": [
    "#defining a Decision Tree regression model\n",
    "model = DecisionTreeRegressor(max_depth = 5 , min_samples_leaf = 5)"
   ]
  },
  {
   "cell_type": "code",
   "execution_count": 125,
   "id": "ba54b0d6",
   "metadata": {},
   "outputs": [
    {
     "data": {
      "text/plain": [
       "DecisionTreeRegressor(max_depth=5, min_samples_leaf=5)"
      ]
     },
     "execution_count": 125,
     "metadata": {},
     "output_type": "execute_result"
    }
   ],
   "source": [
    "model.fit(X1,y1)               #fitting a Decision Tree regression model"
   ]
  },
  {
   "cell_type": "code",
   "execution_count": 126,
   "id": "107a2a3f",
   "metadata": {},
   "outputs": [],
   "source": [
    "#perform 10 fold cross validation to get the cross validation scores"
   ]
  },
  {
   "cell_type": "code",
   "execution_count": 127,
   "id": "c141b176",
   "metadata": {},
   "outputs": [],
   "source": [
    "scores = cross_val_score(model,X1,y1,cv=10,scoring='r2')            #CV score with R squared as the metric\n",
    "cv_scores1 = scores.mean()"
   ]
  },
  {
   "cell_type": "code",
   "execution_count": 128,
   "id": "4bb1c229",
   "metadata": {},
   "outputs": [
    {
     "data": {
      "text/plain": [
       "0.52"
      ]
     },
     "execution_count": 128,
     "metadata": {},
     "output_type": "execute_result"
    }
   ],
   "source": [
    "np.round(cv_scores1,2)"
   ]
  },
  {
   "cell_type": "code",
   "execution_count": 129,
   "id": "a8c4cf88",
   "metadata": {},
   "outputs": [],
   "source": [
    "scores = cross_val_score(model,X1,y1,cv=10,scoring='neg_root_mean_squared_error')      #CV score with RMSE as the metric\n",
    "cv_scores1 = scores.mean()"
   ]
  },
  {
   "cell_type": "code",
   "execution_count": 130,
   "id": "3d202d12",
   "metadata": {},
   "outputs": [
    {
     "data": {
      "text/plain": [
       "258912.71"
      ]
     },
     "execution_count": 130,
     "metadata": {},
     "output_type": "execute_result"
    }
   ],
   "source": [
    "np.round(np.abs(cv_scores1),2)"
   ]
  },
  {
   "cell_type": "markdown",
   "id": "c22a0aed",
   "metadata": {},
   "source": [
    "## Fitting Decision Tree on featured data :"
   ]
  },
  {
   "cell_type": "markdown",
   "id": "c4176965",
   "metadata": {},
   "source": [
    "##### Model 1 :"
   ]
  },
  {
   "cell_type": "code",
   "execution_count": 131,
   "id": "3204c9ab",
   "metadata": {},
   "outputs": [],
   "source": [
    "X1 = dataset_2[['sqft_living']]            #taking grade as the predictor \n",
    "y1 = dataset_2['price']"
   ]
  },
  {
   "cell_type": "code",
   "execution_count": 132,
   "id": "983f963f",
   "metadata": {},
   "outputs": [],
   "source": [
    "#defining a Decision Tree regression model\n",
    "model = DecisionTreeRegressor(max_depth = 5 , min_samples_leaf = 5)"
   ]
  },
  {
   "cell_type": "code",
   "execution_count": 133,
   "id": "095b2cac",
   "metadata": {},
   "outputs": [
    {
     "data": {
      "text/plain": [
       "DecisionTreeRegressor(max_depth=5, min_samples_leaf=5)"
      ]
     },
     "execution_count": 133,
     "metadata": {},
     "output_type": "execute_result"
    }
   ],
   "source": [
    "model.fit(X1,y1)               #fitting a Decision Tree regression model"
   ]
  },
  {
   "cell_type": "code",
   "execution_count": 134,
   "id": "cbe43c79",
   "metadata": {},
   "outputs": [],
   "source": [
    "#perform 10 fold cross validation to get the cross validation scores"
   ]
  },
  {
   "cell_type": "code",
   "execution_count": 135,
   "id": "e0690dc9",
   "metadata": {},
   "outputs": [],
   "source": [
    "scores = cross_val_score(model,X1,y1,cv=10,scoring='r2')            #CV score with R squared as the metric\n",
    "cv_scores1 = scores.mean()"
   ]
  },
  {
   "cell_type": "code",
   "execution_count": 136,
   "id": "b3bac27c",
   "metadata": {},
   "outputs": [
    {
     "data": {
      "text/plain": [
       "0.48"
      ]
     },
     "execution_count": 136,
     "metadata": {},
     "output_type": "execute_result"
    }
   ],
   "source": [
    "np.round(cv_scores1,2)"
   ]
  },
  {
   "cell_type": "code",
   "execution_count": 137,
   "id": "5f44b670",
   "metadata": {},
   "outputs": [],
   "source": [
    "scores = cross_val_score(model,X1,y1,cv=10,scoring='neg_root_mean_squared_error')      #CV score with RMSE as the metric \n",
    "cv_scores1 = scores.mean()"
   ]
  },
  {
   "cell_type": "code",
   "execution_count": 138,
   "id": "2499c71c",
   "metadata": {},
   "outputs": [
    {
     "data": {
      "text/plain": [
       "0.38"
      ]
     },
     "execution_count": 138,
     "metadata": {},
     "output_type": "execute_result"
    }
   ],
   "source": [
    "np.round(np.abs(cv_scores1),2)"
   ]
  },
  {
   "cell_type": "markdown",
   "id": "4d1f5f02",
   "metadata": {},
   "source": [
    "##### Model 2 :"
   ]
  },
  {
   "cell_type": "code",
   "execution_count": 139,
   "id": "dd201433",
   "metadata": {},
   "outputs": [],
   "source": [
    "X1 = dataset_2[['sqft_living','grade']]       #taking sqft_living and grade as the predictor \n",
    "y1 = dataset_2['price']"
   ]
  },
  {
   "cell_type": "code",
   "execution_count": 140,
   "id": "d33f0cc2",
   "metadata": {},
   "outputs": [],
   "source": [
    "#defining a Decision Tree regression model\n",
    "model = DecisionTreeRegressor(max_depth = 5 , min_samples_leaf = 5)"
   ]
  },
  {
   "cell_type": "code",
   "execution_count": 141,
   "id": "1ab5faf2",
   "metadata": {},
   "outputs": [
    {
     "data": {
      "text/plain": [
       "DecisionTreeRegressor(max_depth=5, min_samples_leaf=5)"
      ]
     },
     "execution_count": 141,
     "metadata": {},
     "output_type": "execute_result"
    }
   ],
   "source": [
    "model.fit(X1,y1)               #fitting a Decision Tree regression model"
   ]
  },
  {
   "cell_type": "code",
   "execution_count": 142,
   "id": "d007da0b",
   "metadata": {},
   "outputs": [],
   "source": [
    "#perform 10 fold cross validation to get the cross validation scores"
   ]
  },
  {
   "cell_type": "code",
   "execution_count": 143,
   "id": "6aa949c6",
   "metadata": {},
   "outputs": [],
   "source": [
    "scores = cross_val_score(model,X1,y1,cv=10,scoring='r2')            #CV score with R squared as the metric\n",
    "cv_scores1 = scores.mean()"
   ]
  },
  {
   "cell_type": "code",
   "execution_count": 144,
   "id": "289a536b",
   "metadata": {},
   "outputs": [
    {
     "data": {
      "text/plain": [
       "0.55"
      ]
     },
     "execution_count": 144,
     "metadata": {},
     "output_type": "execute_result"
    }
   ],
   "source": [
    "np.round(cv_scores1,2)"
   ]
  },
  {
   "cell_type": "code",
   "execution_count": 145,
   "id": "da407d02",
   "metadata": {},
   "outputs": [],
   "source": [
    "scores = cross_val_score(model,X1,y1,cv=10,scoring='neg_root_mean_squared_error')      #CV score with RMSE as the metric \n",
    "cv_scores1 = scores.mean()"
   ]
  },
  {
   "cell_type": "code",
   "execution_count": 146,
   "id": "5b232ec1",
   "metadata": {},
   "outputs": [
    {
     "data": {
      "text/plain": [
       "0.35"
      ]
     },
     "execution_count": 146,
     "metadata": {},
     "output_type": "execute_result"
    }
   ],
   "source": [
    "np.round(np.abs(cv_scores1),2)"
   ]
  },
  {
   "cell_type": "markdown",
   "id": "39f2ca32",
   "metadata": {},
   "source": [
    "##### Model 3 :"
   ]
  },
  {
   "cell_type": "code",
   "execution_count": 147,
   "id": "50f3eaeb",
   "metadata": {},
   "outputs": [],
   "source": [
    "X1 = dataset_2[['bedrooms','bathrooms','sqft_living','grade']]   #taking bedrooms, bathrooms, sqft_living and grade as the predictor \n",
    "y1 = dataset_2['price']"
   ]
  },
  {
   "cell_type": "code",
   "execution_count": 148,
   "id": "88eca733",
   "metadata": {},
   "outputs": [],
   "source": [
    "#defining a Decision Tree regression model\n",
    "model = DecisionTreeRegressor(max_depth = 5 , min_samples_leaf = 5)"
   ]
  },
  {
   "cell_type": "code",
   "execution_count": 149,
   "id": "67afb9a1",
   "metadata": {},
   "outputs": [
    {
     "data": {
      "text/plain": [
       "DecisionTreeRegressor(max_depth=5, min_samples_leaf=5)"
      ]
     },
     "execution_count": 149,
     "metadata": {},
     "output_type": "execute_result"
    }
   ],
   "source": [
    "model.fit(X1,y1)               #fitting a Decision Tree regression model"
   ]
  },
  {
   "cell_type": "code",
   "execution_count": 150,
   "id": "a486801f",
   "metadata": {},
   "outputs": [],
   "source": [
    "#perform 10 fold cross validation to get the cross validation scores"
   ]
  },
  {
   "cell_type": "code",
   "execution_count": 151,
   "id": "3a808aaf",
   "metadata": {},
   "outputs": [],
   "source": [
    "scores = cross_val_score(model,X1,y1,cv=10,scoring='r2')            #CV score with R squared as the metric\n",
    "cv_scores1 = scores.mean()"
   ]
  },
  {
   "cell_type": "code",
   "execution_count": 152,
   "id": "c7385ac5",
   "metadata": {},
   "outputs": [
    {
     "data": {
      "text/plain": [
       "0.55"
      ]
     },
     "execution_count": 152,
     "metadata": {},
     "output_type": "execute_result"
    }
   ],
   "source": [
    "np.round(cv_scores1,2)"
   ]
  },
  {
   "cell_type": "code",
   "execution_count": 153,
   "id": "60e9d17f",
   "metadata": {},
   "outputs": [],
   "source": [
    "scores = cross_val_score(model,X1,y1,cv=10,scoring='neg_root_mean_squared_error')      #CV score with RMSE as the metric\n",
    "cv_scores1 = scores.mean()"
   ]
  },
  {
   "cell_type": "code",
   "execution_count": 154,
   "id": "b1984a49",
   "metadata": {},
   "outputs": [
    {
     "data": {
      "text/plain": [
       "0.36"
      ]
     },
     "execution_count": 154,
     "metadata": {},
     "output_type": "execute_result"
    }
   ],
   "source": [
    "np.round(np.abs(cv_scores1),2)"
   ]
  },
  {
   "cell_type": "markdown",
   "id": "ea2e99c1",
   "metadata": {},
   "source": [
    "# Decision Tree with R squared & RMSE score:"
   ]
  },
  {
   "cell_type": "markdown",
   "id": "d6f3956a",
   "metadata": {},
   "source": [
    "##### We fit a Decision Tree Regression model on the featured data and test the model on the featured test data to get the R squared and RMSE score."
   ]
  },
  {
   "cell_type": "markdown",
   "id": "302ac5f1",
   "metadata": {},
   "source": [
    "Here we consider all the numerical variables in the dataset after feature engineering as the set of predictors and price as the target.  \n",
    "Here we drop zipcode , id and date from the predictors."
   ]
  },
  {
   "cell_type": "code",
   "execution_count": 155,
   "id": "aa9a7601",
   "metadata": {},
   "outputs": [],
   "source": [
    "from sklearn.tree import DecisionTreeRegressor\n",
    "from sklearn import tree"
   ]
  },
  {
   "cell_type": "code",
   "execution_count": 156,
   "id": "0c556283",
   "metadata": {},
   "outputs": [],
   "source": [
    "X1 = dataset_2[['bedrooms','bathrooms','sqft_living','sqft_lot','floors','waterfront','view','condition','grade','sqft_above','sqft_basement','yr_built','yr_renovated','sqft_living15','sqft_lot15','lat','long']]\n",
    "y1 = dataset_2['price']"
   ]
  },
  {
   "cell_type": "code",
   "execution_count": 157,
   "id": "7bc058a0",
   "metadata": {},
   "outputs": [],
   "source": [
    "X_test = dataset_test[['bedrooms','bathrooms','sqft_living','sqft_lot','floors','waterfront','view','condition','grade','sqft_above','sqft_basement','yr_built','yr_renovated','sqft_living15','sqft_lot15','lat','long']]\n",
    "y_test = dataset_test['price']"
   ]
  },
  {
   "cell_type": "code",
   "execution_count": 158,
   "id": "0bde8803",
   "metadata": {},
   "outputs": [],
   "source": [
    "#Tuning the hyperparameters to get the best fit tree."
   ]
  },
  {
   "cell_type": "code",
   "execution_count": 159,
   "id": "57468561",
   "metadata": {},
   "outputs": [],
   "source": [
    "depth = list(range(1,20))\n",
    "\n",
    "#empty list that will hold cv scores\n",
    "cv_scores_dt = []\n",
    "\n",
    "#perform 10 fold cross validation\n",
    "for i in depth :\n",
    "    model = DecisionTreeRegressor(max_depth = i, min_samples_leaf = 5)\n",
    "    scores_dt = cross_val_score(model, X1, y1, cv = 10, scoring='r2')\n",
    "    cv_scores_dt.append(scores_dt.mean())"
   ]
  },
  {
   "cell_type": "markdown",
   "id": "31b93be8",
   "metadata": {},
   "source": [
    "In this we use a 10 fold cross validation to select the optimal value of the depth of the tree. We take the depth which corresponds to the maximum cross validation score."
   ]
  },
  {
   "cell_type": "code",
   "execution_count": 160,
   "id": "0ccc9bc5",
   "metadata": {},
   "outputs": [
    {
     "data": {
      "text/plain": [
       "array([0.33142203, 0.53893479, 0.66222353, 0.71381686, 0.75519187,\n",
       "       0.78053469, 0.79540059, 0.80909979, 0.81611265, 0.81916259,\n",
       "       0.81860889, 0.81855662, 0.81457448, 0.8132893 , 0.81162806,\n",
       "       0.81009554, 0.80967529, 0.80931905, 0.80849364])"
      ]
     },
     "execution_count": 160,
     "metadata": {},
     "output_type": "execute_result"
    }
   ],
   "source": [
    "#cv_scores_dt\n",
    "np.abs(cv_scores_dt)       #taking absolute value of the CV scores"
   ]
  },
  {
   "cell_type": "markdown",
   "id": "4c3b8d83",
   "metadata": {},
   "source": [
    "The plot below shows how the cross validation score varies as we change the depth of tree. The value of depth for which the cross validatioin score is maximum we select that value for our best fit model"
   ]
  },
  {
   "cell_type": "code",
   "execution_count": 161,
   "id": "0a474eaf",
   "metadata": {},
   "outputs": [
    {
     "data": {
      "image/png": "[encoded data removed]",
      "text/plain": [
       "<Figure size 432x288 with 1 Axes>"
      ]
     },
     "metadata": {
      "needs_background": "light"
     },
     "output_type": "display_data"
    }
   ],
   "source": [
    "plt.plot (depth, np.abs(cv_scores_dt))                 #plot of depth vs the CV score\n",
    "plt.xlabel('Depth of the tree')\n",
    "plt.ylabel('CV Scores')\n",
    "plt.show()"
   ]
  },
  {
   "cell_type": "code",
   "execution_count": 162,
   "id": "e27604e0",
   "metadata": {},
   "outputs": [
    {
     "data": {
      "text/plain": [
       "0.8191625888564872"
      ]
     },
     "execution_count": 162,
     "metadata": {},
     "output_type": "execute_result"
    }
   ],
   "source": [
    "np.max(np.abs(cv_scores_dt))   "
   ]
  },
  {
   "cell_type": "code",
   "execution_count": 163,
   "id": "e25f73cd",
   "metadata": {},
   "outputs": [
    {
     "data": {
      "text/plain": [
       "(array([9], dtype=int64),)"
      ]
     },
     "execution_count": 163,
     "metadata": {},
     "output_type": "execute_result"
    }
   ],
   "source": [
    "optimal = np.where(np.abs(cv_scores_dt) == np.max(np.abs(cv_scores_dt)))          #finding the index of the optimal value\n",
    "optimal"
   ]
  },
  {
   "cell_type": "code",
   "execution_count": 164,
   "id": "21d2a724",
   "metadata": {},
   "outputs": [
    {
     "data": {
      "text/plain": [
       "10"
      ]
     },
     "execution_count": 164,
     "metadata": {},
     "output_type": "execute_result"
    }
   ],
   "source": [
    "optimal[0][0] + 1"
   ]
  },
  {
   "cell_type": "code",
   "execution_count": 165,
   "id": "1fc0f64a",
   "metadata": {},
   "outputs": [
    {
     "data": {
      "text/plain": [
       "DecisionTreeRegressor(max_depth=10, min_samples_leaf=5)"
      ]
     },
     "execution_count": 165,
     "metadata": {},
     "output_type": "execute_result"
    }
   ],
   "source": [
    "#instantiate an learning model (max_depth = optimal value from the graph/array)\n",
    "model = DecisionTreeRegressor(max_depth = (optimal[0][0] + 1), min_samples_leaf = 5)\n",
    "\n",
    "#fitting the model\n",
    "model.fit(X1, y1)"
   ]
  },
  {
   "cell_type": "code",
   "execution_count": 166,
   "id": "4422be95",
   "metadata": {},
   "outputs": [
    {
     "data": {
      "text/plain": [
       "0.8191571508615259"
      ]
     },
     "execution_count": 166,
     "metadata": {},
     "output_type": "execute_result"
    }
   ],
   "source": [
    "scores_fit_dt = cross_val_score(model, X1, y1, cv = 10, scoring='r2')            #CV score with R squared as the metric\n",
    "np.abs(scores_fit_dt.mean())"
   ]
  },
  {
   "cell_type": "code",
   "execution_count": 167,
   "id": "970e01dd",
   "metadata": {},
   "outputs": [
    {
     "data": {
      "text/plain": [
       "0.82"
      ]
     },
     "execution_count": 167,
     "metadata": {},
     "output_type": "execute_result"
    }
   ],
   "source": [
    "np.round(np.abs(scores_fit_dt.mean()),2)         #CV score for best fit"
   ]
  },
  {
   "cell_type": "code",
   "execution_count": 168,
   "id": "5803e72c",
   "metadata": {},
   "outputs": [
    {
     "data": {
      "text/plain": [
       "True"
      ]
     },
     "execution_count": 168,
     "metadata": {},
     "output_type": "execute_result"
    }
   ],
   "source": [
    "np.round(np.max(np.abs(cv_scores_dt)),2) == np.round(np.abs(scores_fit_dt.mean()),2)        #comparing the 2 cross validation scores"
   ]
  },
  {
   "cell_type": "code",
   "execution_count": 169,
   "id": "77d312d8",
   "metadata": {},
   "outputs": [
    {
     "data": {
      "text/plain": [
       "0.2250497985824284"
      ]
     },
     "execution_count": 169,
     "metadata": {},
     "output_type": "execute_result"
    }
   ],
   "source": [
    "scores_fit_dt = cross_val_score(model, X1, y1, cv = 10, scoring='neg_root_mean_squared_error')            #CV score with RMSE as the metric\n",
    "np.abs(scores_fit_dt.mean())"
   ]
  },
  {
   "cell_type": "code",
   "execution_count": 170,
   "id": "dff1643b",
   "metadata": {},
   "outputs": [
    {
     "data": {
      "text/plain": [
       "0.23"
      ]
     },
     "execution_count": 170,
     "metadata": {},
     "output_type": "execute_result"
    }
   ],
   "source": [
    "np.round(np.abs(scores_fit_dt.mean()),2)      #CV score for best fit"
   ]
  },
  {
   "cell_type": "code",
   "execution_count": 171,
   "id": "980b1532",
   "metadata": {},
   "outputs": [
    {
     "data": {
      "text/plain": [
       "array([12.62211088, 13.26038972, 12.23822453, ..., 13.18689446,\n",
       "       12.69000642, 13.22620148])"
      ]
     },
     "execution_count": 171,
     "metadata": {},
     "output_type": "execute_result"
    }
   ],
   "source": [
    "y_pred1 = model.predict(X_test)        #predicting the price using test data \n",
    "y_pred1"
   ]
  },
  {
   "cell_type": "code",
   "execution_count": 172,
   "id": "5c709929",
   "metadata": {},
   "outputs": [
    {
     "data": {
      "text/plain": [
       "0.82"
      ]
     },
     "execution_count": 172,
     "metadata": {},
     "output_type": "execute_result"
    }
   ],
   "source": [
    "from sklearn.metrics import r2_score   #CV score of the model\n",
    "np.round(r2_score(y_test,y_pred1),2)"
   ]
  },
  {
   "cell_type": "code",
   "execution_count": 173,
   "id": "448ec5f8",
   "metadata": {},
   "outputs": [
    {
     "data": {
      "text/plain": [
       "0.22368776177103844"
      ]
     },
     "execution_count": 173,
     "metadata": {},
     "output_type": "execute_result"
    }
   ],
   "source": [
    "#RMSE\n",
    "RMSE = np.sqrt(np.mean((np.array(y_test)-y_pred1)**2))\n",
    "RMSE"
   ]
  },
  {
   "cell_type": "code",
   "execution_count": null,
   "id": "e6eaf608",
   "metadata": {},
   "outputs": [],
   "source": []
  },
  {
   "cell_type": "code",
   "execution_count": null,
   "id": "792801fe",
   "metadata": {},
   "outputs": [],
   "source": []
  },
  {
   "cell_type": "code",
   "execution_count": null,
   "id": "c874a0df",
   "metadata": {},
   "outputs": [],
   "source": []
  }
 ],
 "metadata": {
  "kernelspec": {
   "display_name": "Python 3",
   "language": "python",
   "name": "python3"
  },
  "language_info": {
   "codemirror_mode": {
    "name": "ipython",
    "version": 3
   },
   "file_extension": ".py",
   "mimetype": "text/x-python",
   "name": "python",
   "nbconvert_exporter": "python",
   "pygments_lexer": "ipython3",
   "version": "3.8.8"
  }
 },
 "nbformat": 4,
 "nbformat_minor": 5
}
